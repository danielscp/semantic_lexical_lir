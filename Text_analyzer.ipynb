{
  "nbformat": 4,
  "nbformat_minor": 0,
  "metadata": {
    "colab": {
      "name": "Text analyzer",
      "version": "0.3.2",
      "provenance": [],
      "collapsed_sections": [],
      "include_colab_link": true
    },
    "kernelspec": {
      "name": "python3",
      "display_name": "Python 3"
    }
  },
  "cells": [
    {
      "cell_type": "markdown",
      "metadata": {
        "id": "view-in-github",
        "colab_type": "text"
      },
      "source": [
        "<a href=\"https://colab.research.google.com/github/danielscp/semantic_lexical_lir/blob/master/Text_analyzer.ipynb\" target=\"_parent\"><img src=\"https://colab.research.google.com/assets/colab-badge.svg\" alt=\"Open In Colab\"/></a>"
      ]
    },
    {
      "cell_type": "code",
      "metadata": {
        "id": "YGkjzhCxEPbP",
        "colab_type": "code",
        "outputId": "4ea60ab5-6199-4cff-9254-4363fb7bb61d",
        "colab": {
          "base_uri": "https://localhost:8080/",
          "height": 153
        }
      },
      "source": [
        "!pip install flashtext"
      ],
      "execution_count": 1,
      "outputs": [
        {
          "output_type": "stream",
          "text": [
            "Collecting flashtext\n",
            "  Downloading https://files.pythonhosted.org/packages/81/d8/2cd0656eae456d615c2f1efbcae8dfca2cb871a31f34ba8925aba47d5e09/flashtext-2.7.tar.gz\n",
            "Building wheels for collected packages: flashtext\n",
            "  Building wheel for flashtext (setup.py) ... \u001b[?25l\u001b[?25hdone\n",
            "  Stored in directory: /root/.cache/pip/wheels/37/db/d7/fe74f7cb8e5c3afed90fe6f4967c933a6f13d81ab6b3d3128c\n",
            "Successfully built flashtext\n",
            "Installing collected packages: flashtext\n",
            "Successfully installed flashtext-2.7\n"
          ],
          "name": "stdout"
        }
      ]
    },
    {
      "cell_type": "code",
      "metadata": {
        "id": "gaLmmsUBKQII",
        "colab_type": "code",
        "outputId": "2ccc0f83-bc00-4301-91f1-71148bdfeb7e",
        "colab": {
          "base_uri": "https://localhost:8080/",
          "height": 136
        }
      },
      "source": [
        "!pip install nltk\n",
        "import nltk\n",
        "nltk.download('stopwords')\n",
        "nltk.download('rslp')"
      ],
      "execution_count": 4,
      "outputs": [
        {
          "output_type": "stream",
          "text": [
            "Requirement already satisfied: nltk in /usr/local/lib/python3.6/dist-packages (3.2.5)\n",
            "Requirement already satisfied: six in /usr/local/lib/python3.6/dist-packages (from nltk) (1.12.0)\n",
            "[nltk_data] Downloading package stopwords to /root/nltk_data...\n",
            "[nltk_data]   Unzipping corpora/stopwords.zip.\n",
            "[nltk_data] Downloading package rslp to /root/nltk_data...\n",
            "[nltk_data]   Unzipping stemmers/rslp.zip.\n"
          ],
          "name": "stdout"
        },
        {
          "output_type": "execute_result",
          "data": {
            "text/plain": [
              "True"
            ]
          },
          "metadata": {
            "tags": []
          },
          "execution_count": 4
        }
      ]
    },
    {
      "cell_type": "code",
      "metadata": {
        "id": "Y-fCFVduOm7c",
        "colab_type": "code",
        "outputId": "d6661cf4-554f-42a6-d727-2fdd4beb0a4b",
        "colab": {
          "base_uri": "https://localhost:8080/",
          "height": 102
        }
      },
      "source": [
        "!pip install unidecode"
      ],
      "execution_count": 5,
      "outputs": [
        {
          "output_type": "stream",
          "text": [
            "Collecting unidecode\n",
            "\u001b[?25l  Downloading https://files.pythonhosted.org/packages/31/39/53096f9217b057cb049fe872b7fc7ce799a1a89b76cf917d9639e7a558b5/Unidecode-1.0.23-py2.py3-none-any.whl (237kB)\n",
            "\u001b[K     |████████████████████████████████| 245kB 5.2MB/s \n",
            "\u001b[?25hInstalling collected packages: unidecode\n",
            "Successfully installed unidecode-1.0.23\n"
          ],
          "name": "stdout"
        }
      ]
    },
    {
      "cell_type": "code",
      "metadata": {
        "id": "r2h0BWwfmrU2",
        "colab_type": "code",
        "colab": {
          "base_uri": "https://localhost:8080/",
          "height": 153
        },
        "outputId": "59ed282d-b965-403c-f4c8-6e96bbaaf79f"
      },
      "source": [
        "!git clone https://github.com/danielscp/semantic_lexical_lir.git"
      ],
      "execution_count": 31,
      "outputs": [
        {
          "output_type": "stream",
          "text": [
            "Cloning into 'semantic_lexical_lir'...\n",
            "remote: Enumerating objects: 161, done.\u001b[K\n",
            "remote: Counting objects: 100% (161/161), done.\u001b[K\n",
            "remote: Compressing objects: 100% (109/109), done.\u001b[K\n",
            "remote: Total 161 (delta 55), reused 157 (delta 51), pack-reused 0\u001b[K\n",
            "Receiving objects: 100% (161/161), 462.21 MiB | 30.80 MiB/s, done.\n",
            "Resolving deltas: 100% (55/55), done.\n",
            "Checking out files: 100% (144/144), done.\n"
          ],
          "name": "stdout"
        }
      ]
    },
    {
      "cell_type": "code",
      "metadata": {
        "id": "DYWazgmbqDH6",
        "colab_type": "code",
        "colab": {}
      },
      "source": [
        "import semantic_lexical_lir.text_analyzer as text_analyzer"
      ],
      "execution_count": 0,
      "outputs": []
    },
    {
      "cell_type": "code",
      "metadata": {
        "id": "rzfktj7qtJD2",
        "colab_type": "code",
        "colab": {}
      },
      "source": [
        "thesaurus_file='semantic_lexical_lir/data/thesaurus.csv'\n",
        "stopwords_file='semantic_lexical_lir/data/stopwords.txt'\n",
        "\n",
        "thesaurus = text_analyzer.load_thesaurus(thesaurus_file)\n",
        "analyzer = text_analyzer.load_analyzer(thesaurus_file=thesaurus_file, stopwords_file=stopwords_file)"
      ],
      "execution_count": 0,
      "outputs": []
    },
    {
      "cell_type": "code",
      "metadata": {
        "id": "YYsyIml9uY95",
        "colab_type": "code",
        "colab": {
          "base_uri": "https://localhost:8080/",
          "height": 34
        },
        "outputId": "1bb4db3c-cd88-4c88-a477-c290b59a19c3"
      },
      "source": [
        "#@title Example of STF Thesaurus text preprocessing\n",
        "#@markdown Thesaurus terms are identified and preffered terms replaces optional terms.\n",
        "#@markdown Enter the text for extracting thesaurus terms.\n",
        "\n",
        "text = 'habeas corpus homicídio arma de fogo impedimento homicídio culposo'  #@param {type: \"string\"}\n",
        "\n",
        "#@markdown Preprocessed text will apear below\n",
        "#@markdown ---\n",
        "\n",
        "thesaurus.transform(text)"
      ],
      "execution_count": 41,
      "outputs": [
        {
          "output_type": "execute_result",
          "data": {
            "text/plain": [
              "['HABEAS CORPUS', 'HOMICÍDIO', 'ARMA DE FOGO', 'HOMICÍDIO CULPOSO']"
            ]
          },
          "metadata": {
            "tags": []
          },
          "execution_count": 41
        }
      ]
    },
    {
      "cell_type": "code",
      "metadata": {
        "id": "aq3zcHi6uakz",
        "colab_type": "code",
        "colab": {
          "base_uri": "https://localhost:8080/",
          "height": 255
        },
        "outputId": "a449cf36-b63a-4ff5-fc02-346045c48fde"
      },
      "source": [
        "#@title Example of text preprocessing for querying models\n",
        "#@markdown Enter the text for preprocessing.\n",
        "\n",
        "text = 'habeas corpus réu alega culpa da vítima porém conduziu o veículo de modo imprudente e provocando o acidente'  #@param {type: \"string\"}\n",
        "\n",
        "#@markdown Preprocessed text will apear below\n",
        "#@markdown ---\n",
        "\n",
        "analyzer(text)"
      ],
      "execution_count": 38,
      "outputs": [
        {
          "output_type": "execute_result",
          "data": {
            "text/plain": [
              "['habe',\n",
              " 'corpu',\n",
              " 'reu',\n",
              " 'aleg',\n",
              " 'culp',\n",
              " 'vitim',\n",
              " 'porem',\n",
              " 'conduz',\n",
              " 'veicul',\n",
              " 'mod',\n",
              " 'imprud',\n",
              " 'provoc',\n",
              " 'acid',\n",
              " 'habe corpu']"
            ]
          },
          "metadata": {
            "tags": []
          },
          "execution_count": 38
        }
      ]
    },
    {
      "cell_type": "code",
      "metadata": {
        "id": "K2YxQtIgTN29",
        "colab_type": "code",
        "colab": {}
      },
      "source": [
        ""
      ],
      "execution_count": 0,
      "outputs": []
    }
  ]
}