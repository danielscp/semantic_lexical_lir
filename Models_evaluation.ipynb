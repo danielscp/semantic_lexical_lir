{
  "nbformat": 4,
  "nbformat_minor": 0,
  "metadata": {
    "colab": {
      "name": "Models evaluation.ipynb",
      "version": "0.3.2",
      "provenance": [],
      "collapsed_sections": [],
      "toc_visible": true,
      "include_colab_link": true
    },
    "kernelspec": {
      "name": "python3",
      "display_name": "Python 3"
    }
  },
  "cells": [
    {
      "cell_type": "markdown",
      "metadata": {
        "id": "view-in-github",
        "colab_type": "text"
      },
      "source": [
        "<a href=\"https://colab.research.google.com/github/danielscp/semantic_lexical_lir/blob/master/Models_evaluation.ipynb\" target=\"_parent\"><img src=\"https://colab.research.google.com/assets/colab-badge.svg\" alt=\"Open In Colab\"/></a>"
      ]
    },
    {
      "cell_type": "markdown",
      "metadata": {
        "id": "CRKE2AKqDeSW",
        "colab_type": "text"
      },
      "source": [
        "# Does semantic search performs better than lexical search in the task of assisting legal opinion writing?"
      ]
    },
    {
      "cell_type": "markdown",
      "metadata": {
        "id": "c0ci1KVXDnmd",
        "colab_type": "text"
      },
      "source": [
        "## Installing libraries and configuring environment"
      ]
    },
    {
      "cell_type": "code",
      "metadata": {
        "id": "28mU8-XR4Dhy",
        "colab_type": "code",
        "outputId": "c7139734-91a5-4c8e-da3e-2cfc36db8e60",
        "colab": {
          "base_uri": "https://localhost:8080/",
          "height": 1295
        }
      },
      "source": [
        "!pip install Orange3"
      ],
      "execution_count": 0,
      "outputs": [
        {
          "output_type": "stream",
          "text": [
            "Collecting Orange3\n",
            "\u001b[?25l  Downloading https://files.pythonhosted.org/packages/f2/30/f13fd1e9e94ec91a16627f9ecc8520dad73307dddb9725a0634dc66c04ca/Orange3-3.21.0-cp36-cp36m-manylinux1_x86_64.whl (2.6MB)\n",
            "\u001b[K     |████████████████████████████████| 2.6MB 2.8MB/s \n",
            "\u001b[?25hCollecting openTSNE>=0.3.0 (from Orange3)\n",
            "\u001b[?25l  Downloading https://files.pythonhosted.org/packages/e7/b9/a59d78cf4540d5cc3ef626dd882f89f9b08f9a8c8f43997fcf46fceaf4e0/openTSNE-0.3.8.tar.gz (837kB)\n",
            "\u001b[K     |████████████████████████████████| 839kB 29.5MB/s \n",
            "\u001b[?25hRequirement already satisfied: requests in /usr/local/lib/python3.6/dist-packages (from Orange3) (2.21.0)\n",
            "Collecting xlsxwriter (from Orange3)\n",
            "\u001b[?25l  Downloading https://files.pythonhosted.org/packages/3f/1c/d6d90eb4e94b32b8558296ef197445fb1faca71d747e28ee3ef56f2cfac2/XlsxWriter-1.1.8-py2.py3-none-any.whl (139kB)\n",
            "\u001b[K     |████████████████████████████████| 143kB 38.3MB/s \n",
            "\u001b[?25hRequirement already satisfied: xlrd>=0.9.2 in /usr/local/lib/python3.6/dist-packages (from Orange3) (1.1.0)\n",
            "Requirement already satisfied: setuptools>=36.3 in /usr/local/lib/python3.6/dist-packages (from Orange3) (41.0.1)\n",
            "Collecting pyqtgraph>=0.10.0 (from Orange3)\n",
            "\u001b[?25l  Downloading https://files.pythonhosted.org/packages/cd/ad/307e0280df5c19986c4206d138ec3a8954afc722cea991f4adb4a16337d9/pyqtgraph-0.10.0.tar.gz (1.5MB)\n",
            "\u001b[K     |████████████████████████████████| 1.6MB 30.6MB/s \n",
            "\u001b[?25hRequirement already satisfied: docutils in /usr/local/lib/python3.6/dist-packages (from Orange3) (0.14)\n",
            "Collecting keyrings.alt (from Orange3)\n",
            "  Downloading https://files.pythonhosted.org/packages/f2/97/e0601ee8e936a13245686af0ac9ed2e2bb61706b4155e4e629cf063ad248/keyrings.alt-3.1.1-py2.py3-none-any.whl\n",
            "Requirement already satisfied: scikit-learn>=0.20.0 in /usr/local/lib/python3.6/dist-packages (from Orange3) (0.21.2)\n",
            "Collecting keyring (from Orange3)\n",
            "  Downloading https://files.pythonhosted.org/packages/6e/b3/b4d443d2e30c00cdb73612426222172182e54359545cfb17774792619e49/keyring-19.0.2-py2.py3-none-any.whl\n",
            "Requirement already satisfied: networkx in /usr/local/lib/python3.6/dist-packages (from Orange3) (2.3)\n",
            "Requirement already satisfied: python-louvain>=0.13 in /usr/local/lib/python3.6/dist-packages (from Orange3) (0.13)\n",
            "Requirement already satisfied: scipy>=0.16.1 in /usr/local/lib/python3.6/dist-packages (from Orange3) (1.3.0)\n",
            "Requirement already satisfied: chardet>=3.0.2 in /usr/local/lib/python3.6/dist-packages (from Orange3) (3.0.4)\n",
            "Requirement already satisfied: joblib>=0.9.4 in /usr/local/lib/python3.6/dist-packages (from Orange3) (0.13.2)\n",
            "Collecting AnyQt>=0.0.8 (from Orange3)\n",
            "\u001b[?25l  Downloading https://files.pythonhosted.org/packages/ac/6d/8c2623ac14a691fb9e672a116e9988de197c27a9da505a330b961647a740/AnyQt-0.0.10-py2.py3-none-any.whl (45kB)\n",
            "\u001b[K     |████████████████████████████████| 51kB 18.9MB/s \n",
            "\u001b[?25hRequirement already satisfied: pip>=9.0 in /usr/local/lib/python3.6/dist-packages (from Orange3) (19.1.1)\n",
            "Collecting serverfiles (from Orange3)\n",
            "  Downloading https://files.pythonhosted.org/packages/72/2d/edd104137443a831eed2f1cedfe96eb003302097b43e7519a98467c5fe44/serverfiles-0.3.0.tar.gz\n",
            "Requirement already satisfied: numpy>=1.13.0 in /usr/local/lib/python3.6/dist-packages (from Orange3) (1.16.4)\n",
            "Requirement already satisfied: matplotlib>=2.0.0 in /usr/local/lib/python3.6/dist-packages (from Orange3) (3.0.3)\n",
            "Requirement already satisfied: bottleneck>=1.0.0 in /usr/local/lib/python3.6/dist-packages (from Orange3) (1.2.1)\n",
            "Collecting pynndescent>=0.3 (from openTSNE>=0.3.0->Orange3)\n",
            "  Downloading https://files.pythonhosted.org/packages/53/68/df2d03d13ae2ff36bbc840ae1181ef2151e67ce9b135ec59b0c28090889f/pynndescent-0.3.0.tar.gz\n",
            "Requirement already satisfied: certifi>=2017.4.17 in /usr/local/lib/python3.6/dist-packages (from requests->Orange3) (2019.3.9)\n",
            "Requirement already satisfied: urllib3<1.25,>=1.21.1 in /usr/local/lib/python3.6/dist-packages (from requests->Orange3) (1.24.3)\n",
            "Requirement already satisfied: idna<2.9,>=2.5 in /usr/local/lib/python3.6/dist-packages (from requests->Orange3) (2.8)\n",
            "Requirement already satisfied: six in /usr/local/lib/python3.6/dist-packages (from keyrings.alt->Orange3) (1.12.0)\n",
            "Collecting secretstorage; sys_platform == \"linux\" (from keyring->Orange3)\n",
            "  Downloading https://files.pythonhosted.org/packages/82/59/cb226752e20d83598d7fdcabd7819570b0329a61db07cfbdd21b2ef546e3/SecretStorage-3.1.1-py3-none-any.whl\n",
            "Requirement already satisfied: entrypoints in /usr/local/lib/python3.6/dist-packages (from keyring->Orange3) (0.3)\n",
            "Requirement already satisfied: decorator>=4.3.0 in /usr/local/lib/python3.6/dist-packages (from networkx->Orange3) (4.4.0)\n",
            "Requirement already satisfied: cycler>=0.10 in /usr/local/lib/python3.6/dist-packages (from matplotlib>=2.0.0->Orange3) (0.10.0)\n",
            "Requirement already satisfied: python-dateutil>=2.1 in /usr/local/lib/python3.6/dist-packages (from matplotlib>=2.0.0->Orange3) (2.5.3)\n",
            "Requirement already satisfied: pyparsing!=2.0.4,!=2.1.2,!=2.1.6,>=2.0.1 in /usr/local/lib/python3.6/dist-packages (from matplotlib>=2.0.0->Orange3) (2.4.0)\n",
            "Requirement already satisfied: kiwisolver>=1.0.1 in /usr/local/lib/python3.6/dist-packages (from matplotlib>=2.0.0->Orange3) (1.1.0)\n",
            "Requirement already satisfied: numba>=0.39 in /usr/local/lib/python3.6/dist-packages (from pynndescent>=0.3->openTSNE>=0.3.0->Orange3) (0.40.1)\n",
            "Collecting cryptography (from secretstorage; sys_platform == \"linux\"->keyring->Orange3)\n",
            "\u001b[?25l  Downloading https://files.pythonhosted.org/packages/97/18/c6557f63a6abde34707196fb2cad1c6dc0dbff25a200d5044922496668a4/cryptography-2.7-cp34-abi3-manylinux1_x86_64.whl (2.3MB)\n",
            "\u001b[K     |████████████████████████████████| 2.3MB 32.7MB/s \n",
            "\u001b[?25hCollecting jeepney (from secretstorage; sys_platform == \"linux\"->keyring->Orange3)\n",
            "\u001b[?25l  Downloading https://files.pythonhosted.org/packages/2b/f7/ff23b9b59534f501d47c327576aadda59da5b83d76ff837e6075bc325b9f/jeepney-0.4-py3-none-any.whl (59kB)\n",
            "\u001b[K     |████████████████████████████████| 61kB 22.9MB/s \n",
            "\u001b[?25hRequirement already satisfied: llvmlite>=0.25.0dev0 in /usr/local/lib/python3.6/dist-packages (from numba>=0.39->pynndescent>=0.3->openTSNE>=0.3.0->Orange3) (0.28.0)\n",
            "Requirement already satisfied: cffi!=1.11.3,>=1.8 in /usr/local/lib/python3.6/dist-packages (from cryptography->secretstorage; sys_platform == \"linux\"->keyring->Orange3) (1.12.3)\n",
            "Collecting asn1crypto>=0.21.0 (from cryptography->secretstorage; sys_platform == \"linux\"->keyring->Orange3)\n",
            "\u001b[?25l  Downloading https://files.pythonhosted.org/packages/ea/cd/35485615f45f30a510576f1a56d1e0a7ad7bd8ab5ed7cdc600ef7cd06222/asn1crypto-0.24.0-py2.py3-none-any.whl (101kB)\n",
            "\u001b[K     |████████████████████████████████| 102kB 28.7MB/s \n",
            "\u001b[?25hRequirement already satisfied: pycparser in /usr/local/lib/python3.6/dist-packages (from cffi!=1.11.3,>=1.8->cryptography->secretstorage; sys_platform == \"linux\"->keyring->Orange3) (2.19)\n",
            "Building wheels for collected packages: openTSNE, pyqtgraph, serverfiles, pynndescent\n",
            "  Building wheel for openTSNE (setup.py) ... \u001b[?25l\u001b[?25hdone\n",
            "  Stored in directory: /root/.cache/pip/wheels/82/66/5c/ff15e5b7c0fd8cf975379e972826fd51201ba12701688656c3\n",
            "  Building wheel for pyqtgraph (setup.py) ... \u001b[?25l\u001b[?25hdone\n",
            "  Stored in directory: /root/.cache/pip/wheels/93/a2/de/184ecdefdb91d760706d02389015dfa3b96e927eb1c42ace37\n",
            "  Building wheel for serverfiles (setup.py) ... \u001b[?25l\u001b[?25hdone\n",
            "  Stored in directory: /root/.cache/pip/wheels/60/e5/74/d6859d4e5fb6968bc38576bf2520fe20509600741c49605067\n",
            "  Building wheel for pynndescent (setup.py) ... \u001b[?25l\u001b[?25hdone\n",
            "  Stored in directory: /root/.cache/pip/wheels/c2/dc/94/2055c891994f758c6453808c69b6ce852672e5e9c426c56717\n",
            "Successfully built openTSNE pyqtgraph serverfiles pynndescent\n",
            "Installing collected packages: pynndescent, openTSNE, xlsxwriter, pyqtgraph, keyrings.alt, asn1crypto, cryptography, jeepney, secretstorage, keyring, AnyQt, serverfiles, Orange3\n",
            "Successfully installed AnyQt-0.0.10 Orange3-3.21.0 asn1crypto-0.24.0 cryptography-2.7 jeepney-0.4 keyring-19.0.2 keyrings.alt-3.1.1 openTSNE-0.3.8 pynndescent-0.3.0 pyqtgraph-0.10.0 secretstorage-3.1.1 serverfiles-0.3.0 xlsxwriter-1.1.8\n"
          ],
          "name": "stdout"
        }
      ]
    },
    {
      "cell_type": "code",
      "metadata": {
        "id": "c4FUl6Ob8jUU",
        "colab_type": "code",
        "outputId": "c1e87315-d421-4a54-fab2-1252e84e0d01",
        "colab": {
          "base_uri": "https://localhost:8080/",
          "height": 51
        }
      },
      "source": [
        "!pip install -U -q PyDrive"
      ],
      "execution_count": 0,
      "outputs": [
        {
          "output_type": "stream",
          "text": [
            "\u001b[?25l\r\u001b[K     |▎                               | 10kB 13.3MB/s eta 0:00:01\r\u001b[K     |▋                               | 20kB 3.5MB/s eta 0:00:01\r\u001b[K     |█                               | 30kB 4.8MB/s eta 0:00:01\r\u001b[K     |█▎                              | 40kB 2.3MB/s eta 0:00:01\r\u001b[K     |█▋                              | 51kB 2.8MB/s eta 0:00:01\r\u001b[K     |██                              | 61kB 3.3MB/s eta 0:00:01\r\u001b[K     |██▎                             | 71kB 3.8MB/s eta 0:00:01\r\u001b[K     |██▋                             | 81kB 4.2MB/s eta 0:00:01\r\u001b[K     |███                             | 92kB 4.7MB/s eta 0:00:01\r\u001b[K     |███▎                            | 102kB 3.4MB/s eta 0:00:01\r\u001b[K     |███▋                            | 112kB 3.4MB/s eta 0:00:01\r\u001b[K     |████                            | 122kB 3.4MB/s eta 0:00:01\r\u001b[K     |████▎                           | 133kB 3.4MB/s eta 0:00:01\r\u001b[K     |████▋                           | 143kB 3.4MB/s eta 0:00:01\r\u001b[K     |█████                           | 153kB 3.4MB/s eta 0:00:01\r\u001b[K     |█████▎                          | 163kB 3.4MB/s eta 0:00:01\r\u001b[K     |█████▋                          | 174kB 3.4MB/s eta 0:00:01\r\u001b[K     |██████                          | 184kB 3.4MB/s eta 0:00:01\r\u001b[K     |██████▎                         | 194kB 3.4MB/s eta 0:00:01\r\u001b[K     |██████▋                         | 204kB 3.4MB/s eta 0:00:01\r\u001b[K     |███████                         | 215kB 3.4MB/s eta 0:00:01\r\u001b[K     |███████▎                        | 225kB 3.4MB/s eta 0:00:01\r\u001b[K     |███████▋                        | 235kB 3.4MB/s eta 0:00:01\r\u001b[K     |████████                        | 245kB 3.4MB/s eta 0:00:01\r\u001b[K     |████████▎                       | 256kB 3.4MB/s eta 0:00:01\r\u001b[K     |████████▋                       | 266kB 3.4MB/s eta 0:00:01\r\u001b[K     |█████████                       | 276kB 3.4MB/s eta 0:00:01\r\u001b[K     |█████████▎                      | 286kB 3.4MB/s eta 0:00:01\r\u001b[K     |█████████▋                      | 296kB 3.4MB/s eta 0:00:01\r\u001b[K     |██████████                      | 307kB 3.4MB/s eta 0:00:01\r\u001b[K     |██████████▎                     | 317kB 3.4MB/s eta 0:00:01\r\u001b[K     |██████████▋                     | 327kB 3.4MB/s eta 0:00:01\r\u001b[K     |███████████                     | 337kB 3.4MB/s eta 0:00:01\r\u001b[K     |███████████▎                    | 348kB 3.4MB/s eta 0:00:01\r\u001b[K     |███████████▋                    | 358kB 3.4MB/s eta 0:00:01\r\u001b[K     |████████████                    | 368kB 3.4MB/s eta 0:00:01\r\u001b[K     |████████████▎                   | 378kB 3.4MB/s eta 0:00:01\r\u001b[K     |████████████▋                   | 389kB 3.4MB/s eta 0:00:01\r\u001b[K     |█████████████                   | 399kB 3.4MB/s eta 0:00:01\r\u001b[K     |█████████████▎                  | 409kB 3.4MB/s eta 0:00:01\r\u001b[K     |█████████████▋                  | 419kB 3.4MB/s eta 0:00:01\r\u001b[K     |██████████████                  | 430kB 3.4MB/s eta 0:00:01\r\u001b[K     |██████████████▎                 | 440kB 3.4MB/s eta 0:00:01\r\u001b[K     |██████████████▋                 | 450kB 3.4MB/s eta 0:00:01\r\u001b[K     |███████████████                 | 460kB 3.4MB/s eta 0:00:01\r\u001b[K     |███████████████▎                | 471kB 3.4MB/s eta 0:00:01\r\u001b[K     |███████████████▋                | 481kB 3.4MB/s eta 0:00:01\r\u001b[K     |████████████████                | 491kB 3.4MB/s eta 0:00:01\r\u001b[K     |████████████████▎               | 501kB 3.4MB/s eta 0:00:01\r\u001b[K     |████████████████▋               | 512kB 3.4MB/s eta 0:00:01\r\u001b[K     |█████████████████               | 522kB 3.4MB/s eta 0:00:01\r\u001b[K     |█████████████████▎              | 532kB 3.4MB/s eta 0:00:01\r\u001b[K     |█████████████████▋              | 542kB 3.4MB/s eta 0:00:01\r\u001b[K     |██████████████████              | 552kB 3.4MB/s eta 0:00:01\r\u001b[K     |██████████████████▎             | 563kB 3.4MB/s eta 0:00:01\r\u001b[K     |██████████████████▋             | 573kB 3.4MB/s eta 0:00:01\r\u001b[K     |███████████████████             | 583kB 3.4MB/s eta 0:00:01\r\u001b[K     |███████████████████▎            | 593kB 3.4MB/s eta 0:00:01\r\u001b[K     |███████████████████▋            | 604kB 3.4MB/s eta 0:00:01\r\u001b[K     |████████████████████            | 614kB 3.4MB/s eta 0:00:01\r\u001b[K     |████████████████████▎           | 624kB 3.4MB/s eta 0:00:01\r\u001b[K     |████████████████████▋           | 634kB 3.4MB/s eta 0:00:01\r\u001b[K     |█████████████████████           | 645kB 3.4MB/s eta 0:00:01\r\u001b[K     |█████████████████████▎          | 655kB 3.4MB/s eta 0:00:01\r\u001b[K     |█████████████████████▋          | 665kB 3.4MB/s eta 0:00:01\r\u001b[K     |██████████████████████          | 675kB 3.4MB/s eta 0:00:01\r\u001b[K     |██████████████████████▎         | 686kB 3.4MB/s eta 0:00:01\r\u001b[K     |██████████████████████▋         | 696kB 3.4MB/s eta 0:00:01\r\u001b[K     |███████████████████████         | 706kB 3.4MB/s eta 0:00:01\r\u001b[K     |███████████████████████▎        | 716kB 3.4MB/s eta 0:00:01\r\u001b[K     |███████████████████████▋        | 727kB 3.4MB/s eta 0:00:01\r\u001b[K     |████████████████████████        | 737kB 3.4MB/s eta 0:00:01\r\u001b[K     |████████████████████████▎       | 747kB 3.4MB/s eta 0:00:01\r\u001b[K     |████████████████████████▋       | 757kB 3.4MB/s eta 0:00:01\r\u001b[K     |████████████████████████▉       | 768kB 3.4MB/s eta 0:00:01\r\u001b[K     |█████████████████████████▏      | 778kB 3.4MB/s eta 0:00:01\r\u001b[K     |█████████████████████████▌      | 788kB 3.4MB/s eta 0:00:01\r\u001b[K     |█████████████████████████▉      | 798kB 3.4MB/s eta 0:00:01\r\u001b[K     |██████████████████████████▏     | 808kB 3.4MB/s eta 0:00:01\r\u001b[K     |██████████████████████████▌     | 819kB 3.4MB/s eta 0:00:01\r\u001b[K     |██████████████████████████▉     | 829kB 3.4MB/s eta 0:00:01\r\u001b[K     |███████████████████████████▏    | 839kB 3.4MB/s eta 0:00:01\r\u001b[K     |███████████████████████████▌    | 849kB 3.4MB/s eta 0:00:01\r\u001b[K     |███████████████████████████▉    | 860kB 3.4MB/s eta 0:00:01\r\u001b[K     |████████████████████████████▏   | 870kB 3.4MB/s eta 0:00:01\r\u001b[K     |████████████████████████████▌   | 880kB 3.4MB/s eta 0:00:01\r\u001b[K     |████████████████████████████▉   | 890kB 3.4MB/s eta 0:00:01\r\u001b[K     |█████████████████████████████▏  | 901kB 3.4MB/s eta 0:00:01\r\u001b[K     |█████████████████████████████▌  | 911kB 3.4MB/s eta 0:00:01\r\u001b[K     |█████████████████████████████▉  | 921kB 3.4MB/s eta 0:00:01\r\u001b[K     |██████████████████████████████▏ | 931kB 3.4MB/s eta 0:00:01\r\u001b[K     |██████████████████████████████▌ | 942kB 3.4MB/s eta 0:00:01\r\u001b[K     |██████████████████████████████▉ | 952kB 3.4MB/s eta 0:00:01\r\u001b[K     |███████████████████████████████▏| 962kB 3.4MB/s eta 0:00:01\r\u001b[K     |███████████████████████████████▌| 972kB 3.4MB/s eta 0:00:01\r\u001b[K     |███████████████████████████████▉| 983kB 3.4MB/s eta 0:00:01\r\u001b[K     |████████████████████████████████| 993kB 3.4MB/s \n",
            "\u001b[?25h  Building wheel for PyDrive (setup.py) ... \u001b[?25l\u001b[?25hdone\n"
          ],
          "name": "stdout"
        }
      ]
    },
    {
      "cell_type": "code",
      "metadata": {
        "id": "Y-np-P_68qR2",
        "colab_type": "code",
        "colab": {}
      },
      "source": [
        "from pydrive.auth import GoogleAuth\n",
        "from pydrive.drive import GoogleDrive\n",
        "from google.colab import auth\n",
        "from oauth2client.client import GoogleCredentials\n",
        "\n",
        "# Authenticate and create the PyDrive client.\n",
        "auth.authenticate_user()\n",
        "gauth = GoogleAuth()\n",
        "gauth.credentials = GoogleCredentials.get_application_default()\n",
        "drive = GoogleDrive(gauth)\n"
      ],
      "execution_count": 0,
      "outputs": []
    },
    {
      "cell_type": "code",
      "metadata": {
        "id": "1ZGMh4jx4gMD",
        "colab_type": "code",
        "colab": {}
      },
      "source": [
        "import matplotlib.pyplot as plt\n",
        "import Orange\n",
        "import pandas as pd"
      ],
      "execution_count": 0,
      "outputs": []
    },
    {
      "cell_type": "code",
      "metadata": {
        "id": "svdcNClF4vJC",
        "colab_type": "code",
        "colab": {}
      },
      "source": [
        "%matplotlib inline"
      ],
      "execution_count": 0,
      "outputs": []
    },
    {
      "cell_type": "code",
      "metadata": {
        "id": "6396EY0GB49T",
        "colab_type": "code",
        "colab": {}
      },
      "source": [
        "#Utility function to grab Google Drive files...\n",
        "def load_from_drive(id, name):\n",
        "  downloaded = drive.CreateFile({'id':id}) \n",
        "  downloaded.GetContentFile(name)  \n",
        "  \n",
        "#Function for plotting models comparison\n",
        "def compare_models(df_models_scores):\n",
        "  avranks = df_models_scores.rank(axis=1, ascending=False, method='average').mean().values\n",
        "  names = [n for n in df_pcrim_pure.columns[1:]]\n",
        "  cd = Orange.evaluation.compute_CD(avranks, 30) #tested on 30 queries\n",
        "  Orange.evaluation.graph_ranks(avranks, names, cd=cd, width=6, textspace=1.5)"
      ],
      "execution_count": 0,
      "outputs": []
    },
    {
      "cell_type": "code",
      "metadata": {
        "id": "ZsTna0r8lyjU",
        "colab_type": "code",
        "colab": {}
      },
      "source": [
        "#Utility function to plot enrichment methods comparison\n",
        "def plot_enrich_comparison(df_basic, df_matter, df_citation, df_matter_citation):\n",
        "  dfs = [df_basic, df_matter, df_citation, df_matter_citation]\n",
        "  methods = ['Basic', 'Matter', 'Citation', 'Matter & Citation']\n",
        "  df = pd.DataFrame([ds.mean() for ds in dfs], index=methods)\n",
        "  line_style=[':', ':'] + ['-.' for i in range(8)] + ['-' for i in range(8)]\n",
        "  df.plot(style=line_style).legend(bbox_to_anchor=(1.2, 1.2))\n",
        "  plt.ylabel('NDCG')\n",
        "  plt.xlabel('Rank modification method')\n",
        "  return df"
      ],
      "execution_count": 0,
      "outputs": []
    },
    {
      "cell_type": "markdown",
      "metadata": {
        "id": "fkrEVMxyDzY9",
        "colab_type": "text"
      },
      "source": [
        "## Criminal Prosecution Office Corpus assesment"
      ]
    },
    {
      "cell_type": "markdown",
      "metadata": {
        "id": "k3knMv7vonE2",
        "colab_type": "text"
      },
      "source": [
        "### Loading models NDCG score datasets"
      ]
    },
    {
      "cell_type": "code",
      "metadata": {
        "id": "gJddU2tXEJia",
        "colab_type": "code",
        "colab": {}
      },
      "source": [
        "datasets = [\n",
        "    ('1cbyXu4yaMv8ggGyETownqFqyzRl4m0uf', 'pcrim_score_pure_20.csv'),\n",
        "    ('1zgx1pmrn4BEL-Zzvp7Pqb7PH2E8oQ8sO', 'pcrim_score_matter_20.csv'),\n",
        "    ('1CmGtMn_zIxhOyb6uGaF_zkRNArgVlpGZ', 'pcrim_score_citation_20.csv'),\n",
        "    ('1nVv477pv5Pe1LE3WTgQU7nzyvw0Seuwa', 'pcrim_score_matter_citation_20.csv'),\n",
        "\n",
        "]\n",
        "\n",
        "for d in datasets:\n",
        "  load_from_drive(*d)"
      ],
      "execution_count": 0,
      "outputs": []
    },
    {
      "cell_type": "code",
      "metadata": {
        "id": "HCfR19JEFKeo",
        "colab_type": "code",
        "outputId": "5d03f562-7deb-489b-a475-374fb031524a",
        "colab": {
          "base_uri": "https://localhost:8080/",
          "height": 204
        }
      },
      "source": [
        "df_pcrim_pure = pd.read_csv('pcrim_score_pure_20.csv')\n",
        "df_pcrim_pure.head()"
      ],
      "execution_count": 0,
      "outputs": [
        {
          "output_type": "execute_result",
          "data": {
            "text/html": [
              "<div>\n",
              "<style scoped>\n",
              "    .dataframe tbody tr th:only-of-type {\n",
              "        vertical-align: middle;\n",
              "    }\n",
              "\n",
              "    .dataframe tbody tr th {\n",
              "        vertical-align: top;\n",
              "    }\n",
              "\n",
              "    .dataframe thead th {\n",
              "        text-align: right;\n",
              "    }\n",
              "</style>\n",
              "<table border=\"1\" class=\"dataframe\">\n",
              "  <thead>\n",
              "    <tr style=\"text-align: right;\">\n",
              "      <th></th>\n",
              "      <th>q</th>\n",
              "      <th>bm25</th>\n",
              "      <th>tfidf</th>\n",
              "      <th>lsi_50</th>\n",
              "      <th>lsi_100</th>\n",
              "      <th>lsi_150</th>\n",
              "      <th>lsi_200</th>\n",
              "      <th>lsi_250</th>\n",
              "      <th>lsi_300</th>\n",
              "      <th>lsi_350</th>\n",
              "      <th>lsi_400</th>\n",
              "      <th>lda_50</th>\n",
              "      <th>lda_100</th>\n",
              "      <th>lda_150</th>\n",
              "      <th>lda_200</th>\n",
              "      <th>lda_250</th>\n",
              "      <th>lda_300</th>\n",
              "      <th>lda_350</th>\n",
              "      <th>lda_400</th>\n",
              "    </tr>\n",
              "  </thead>\n",
              "  <tbody>\n",
              "    <tr>\n",
              "      <th>0</th>\n",
              "      <td>q0</td>\n",
              "      <td>0.548068</td>\n",
              "      <td>0.576412</td>\n",
              "      <td>0.493933</td>\n",
              "      <td>0.461191</td>\n",
              "      <td>0.491359</td>\n",
              "      <td>0.000000</td>\n",
              "      <td>0.000000</td>\n",
              "      <td>0.000000</td>\n",
              "      <td>0.000000</td>\n",
              "      <td>0.000000</td>\n",
              "      <td>0.107468</td>\n",
              "      <td>0.160808</td>\n",
              "      <td>0.161649</td>\n",
              "      <td>0.000000</td>\n",
              "      <td>0.000000</td>\n",
              "      <td>0.0000</td>\n",
              "      <td>0.0</td>\n",
              "      <td>0.033515</td>\n",
              "    </tr>\n",
              "    <tr>\n",
              "      <th>1</th>\n",
              "      <td>q1</td>\n",
              "      <td>0.925279</td>\n",
              "      <td>0.852397</td>\n",
              "      <td>0.886787</td>\n",
              "      <td>0.887899</td>\n",
              "      <td>0.888584</td>\n",
              "      <td>0.035704</td>\n",
              "      <td>0.035704</td>\n",
              "      <td>0.000000</td>\n",
              "      <td>0.000000</td>\n",
              "      <td>0.000000</td>\n",
              "      <td>0.922187</td>\n",
              "      <td>0.906924</td>\n",
              "      <td>0.903619</td>\n",
              "      <td>0.138703</td>\n",
              "      <td>0.132466</td>\n",
              "      <td>0.0664</td>\n",
              "      <td>0.0</td>\n",
              "      <td>0.000000</td>\n",
              "    </tr>\n",
              "    <tr>\n",
              "      <th>2</th>\n",
              "      <td>q10</td>\n",
              "      <td>0.134061</td>\n",
              "      <td>0.057737</td>\n",
              "      <td>0.000000</td>\n",
              "      <td>0.019376</td>\n",
              "      <td>0.018698</td>\n",
              "      <td>0.000000</td>\n",
              "      <td>0.000000</td>\n",
              "      <td>0.000000</td>\n",
              "      <td>0.000000</td>\n",
              "      <td>0.000000</td>\n",
              "      <td>0.078458</td>\n",
              "      <td>0.042291</td>\n",
              "      <td>0.000000</td>\n",
              "      <td>0.000000</td>\n",
              "      <td>0.000000</td>\n",
              "      <td>0.0000</td>\n",
              "      <td>0.0</td>\n",
              "      <td>0.000000</td>\n",
              "    </tr>\n",
              "    <tr>\n",
              "      <th>3</th>\n",
              "      <td>q11</td>\n",
              "      <td>0.938003</td>\n",
              "      <td>0.873358</td>\n",
              "      <td>0.917476</td>\n",
              "      <td>0.917515</td>\n",
              "      <td>0.918200</td>\n",
              "      <td>0.000000</td>\n",
              "      <td>0.000000</td>\n",
              "      <td>0.000000</td>\n",
              "      <td>0.000000</td>\n",
              "      <td>0.000000</td>\n",
              "      <td>0.922187</td>\n",
              "      <td>0.906924</td>\n",
              "      <td>0.903619</td>\n",
              "      <td>0.016809</td>\n",
              "      <td>0.102531</td>\n",
              "      <td>0.0000</td>\n",
              "      <td>0.0</td>\n",
              "      <td>0.000000</td>\n",
              "    </tr>\n",
              "    <tr>\n",
              "      <th>4</th>\n",
              "      <td>q12</td>\n",
              "      <td>0.775829</td>\n",
              "      <td>0.670887</td>\n",
              "      <td>0.672859</td>\n",
              "      <td>0.667374</td>\n",
              "      <td>0.647724</td>\n",
              "      <td>0.018402</td>\n",
              "      <td>0.018402</td>\n",
              "      <td>0.016886</td>\n",
              "      <td>0.016886</td>\n",
              "      <td>0.016886</td>\n",
              "      <td>0.833291</td>\n",
              "      <td>0.944375</td>\n",
              "      <td>0.897169</td>\n",
              "      <td>0.016492</td>\n",
              "      <td>0.000000</td>\n",
              "      <td>0.0000</td>\n",
              "      <td>0.0</td>\n",
              "      <td>0.051500</td>\n",
              "    </tr>\n",
              "  </tbody>\n",
              "</table>\n",
              "</div>"
            ],
            "text/plain": [
              "     q      bm25     tfidf    lsi_50  ...   lda_250  lda_300  lda_350   lda_400\n",
              "0   q0  0.548068  0.576412  0.493933  ...  0.000000   0.0000      0.0  0.033515\n",
              "1   q1  0.925279  0.852397  0.886787  ...  0.132466   0.0664      0.0  0.000000\n",
              "2  q10  0.134061  0.057737  0.000000  ...  0.000000   0.0000      0.0  0.000000\n",
              "3  q11  0.938003  0.873358  0.917476  ...  0.102531   0.0000      0.0  0.000000\n",
              "4  q12  0.775829  0.670887  0.672859  ...  0.000000   0.0000      0.0  0.051500\n",
              "\n",
              "[5 rows x 19 columns]"
            ]
          },
          "metadata": {
            "tags": []
          },
          "execution_count": 9
        }
      ]
    },
    {
      "cell_type": "code",
      "metadata": {
        "id": "CTN_7JppLjz6",
        "colab_type": "code",
        "colab": {}
      },
      "source": [
        ""
      ],
      "execution_count": 0,
      "outputs": []
    },
    {
      "cell_type": "markdown",
      "metadata": {
        "id": "xBhAP_XAGCpP",
        "colab_type": "text"
      },
      "source": [
        "### Comparing pure models"
      ]
    },
    {
      "cell_type": "code",
      "metadata": {
        "id": "jwwk1MwXF0yE",
        "colab_type": "code",
        "outputId": "d467c20d-0852-40f5-c484-f266f6698cff",
        "colab": {
          "base_uri": "https://localhost:8080/",
          "height": 272
        }
      },
      "source": [
        "compare_models(df_pcrim_pure)"
      ],
      "execution_count": 0,
      "outputs": [
        {
          "output_type": "display_data",
          "data": {
            "image/png": "[encoded data removed]",
            "text/plain": [
              "<Figure size 432x219.6 with 1 Axes>"
            ]
          },
          "metadata": {
            "tags": []
          }
        }
      ]
    },
    {
      "cell_type": "markdown",
      "metadata": {
        "id": "P82w_XfBow91",
        "colab_type": "text"
      },
      "source": [
        "### Comparing models with matter enrichment"
      ]
    },
    {
      "cell_type": "code",
      "metadata": {
        "id": "TIw0LlRx5ESq",
        "colab_type": "code",
        "outputId": "4208a603-6f71-4218-e727-78ca96a19276",
        "colab": {
          "base_uri": "https://localhost:8080/",
          "height": 204
        }
      },
      "source": [
        "df_pcrim_matter = pd.read_csv('pcrim_score_matter_20.csv')\n",
        "df_pcrim_matter.head()"
      ],
      "execution_count": 0,
      "outputs": [
        {
          "output_type": "execute_result",
          "data": {
            "text/html": [
              "<div>\n",
              "<style scoped>\n",
              "    .dataframe tbody tr th:only-of-type {\n",
              "        vertical-align: middle;\n",
              "    }\n",
              "\n",
              "    .dataframe tbody tr th {\n",
              "        vertical-align: top;\n",
              "    }\n",
              "\n",
              "    .dataframe thead th {\n",
              "        text-align: right;\n",
              "    }\n",
              "</style>\n",
              "<table border=\"1\" class=\"dataframe\">\n",
              "  <thead>\n",
              "    <tr style=\"text-align: right;\">\n",
              "      <th></th>\n",
              "      <th>q</th>\n",
              "      <th>bm25</th>\n",
              "      <th>tfidf</th>\n",
              "      <th>lsi_50</th>\n",
              "      <th>lsi_100</th>\n",
              "      <th>lsi_150</th>\n",
              "      <th>lsi_200</th>\n",
              "      <th>lsi_250</th>\n",
              "      <th>lsi_300</th>\n",
              "      <th>lsi_350</th>\n",
              "      <th>lsi_400</th>\n",
              "      <th>lda_50</th>\n",
              "      <th>lda_100</th>\n",
              "      <th>lda_150</th>\n",
              "      <th>lda_200</th>\n",
              "      <th>lda_250</th>\n",
              "      <th>lda_300</th>\n",
              "      <th>lda_350</th>\n",
              "      <th>lda_400</th>\n",
              "    </tr>\n",
              "  </thead>\n",
              "  <tbody>\n",
              "    <tr>\n",
              "      <th>0</th>\n",
              "      <td>q0</td>\n",
              "      <td>0.667803</td>\n",
              "      <td>0.616077</td>\n",
              "      <td>0.505859</td>\n",
              "      <td>0.468507</td>\n",
              "      <td>0.495726</td>\n",
              "      <td>0.079001</td>\n",
              "      <td>0.086111</td>\n",
              "      <td>0.150341</td>\n",
              "      <td>0.086710</td>\n",
              "      <td>0.115748</td>\n",
              "      <td>0.232524</td>\n",
              "      <td>0.170361</td>\n",
              "      <td>0.169943</td>\n",
              "      <td>0.449326</td>\n",
              "      <td>0.338195</td>\n",
              "      <td>0.287775</td>\n",
              "      <td>0.262456</td>\n",
              "      <td>0.393845</td>\n",
              "    </tr>\n",
              "    <tr>\n",
              "      <th>1</th>\n",
              "      <td>q1</td>\n",
              "      <td>0.925279</td>\n",
              "      <td>0.852397</td>\n",
              "      <td>0.886787</td>\n",
              "      <td>0.887899</td>\n",
              "      <td>0.888584</td>\n",
              "      <td>0.035704</td>\n",
              "      <td>0.035704</td>\n",
              "      <td>0.000000</td>\n",
              "      <td>0.000000</td>\n",
              "      <td>0.000000</td>\n",
              "      <td>0.922187</td>\n",
              "      <td>0.906924</td>\n",
              "      <td>0.903619</td>\n",
              "      <td>0.138703</td>\n",
              "      <td>0.132466</td>\n",
              "      <td>0.068315</td>\n",
              "      <td>0.000000</td>\n",
              "      <td>0.000000</td>\n",
              "    </tr>\n",
              "    <tr>\n",
              "      <th>2</th>\n",
              "      <td>q10</td>\n",
              "      <td>0.548869</td>\n",
              "      <td>0.480655</td>\n",
              "      <td>0.549738</td>\n",
              "      <td>0.544026</td>\n",
              "      <td>0.500394</td>\n",
              "      <td>0.202104</td>\n",
              "      <td>0.318053</td>\n",
              "      <td>0.209377</td>\n",
              "      <td>0.249555</td>\n",
              "      <td>0.216434</td>\n",
              "      <td>0.490575</td>\n",
              "      <td>0.461172</td>\n",
              "      <td>0.573238</td>\n",
              "      <td>0.301437</td>\n",
              "      <td>0.324068</td>\n",
              "      <td>0.331470</td>\n",
              "      <td>0.280951</td>\n",
              "      <td>0.357436</td>\n",
              "    </tr>\n",
              "    <tr>\n",
              "      <th>3</th>\n",
              "      <td>q11</td>\n",
              "      <td>0.938003</td>\n",
              "      <td>0.873358</td>\n",
              "      <td>0.917476</td>\n",
              "      <td>0.917515</td>\n",
              "      <td>0.918200</td>\n",
              "      <td>0.000000</td>\n",
              "      <td>0.000000</td>\n",
              "      <td>0.000000</td>\n",
              "      <td>0.000000</td>\n",
              "      <td>0.000000</td>\n",
              "      <td>0.922187</td>\n",
              "      <td>0.906924</td>\n",
              "      <td>0.903619</td>\n",
              "      <td>0.097139</td>\n",
              "      <td>0.102531</td>\n",
              "      <td>0.000000</td>\n",
              "      <td>0.000000</td>\n",
              "      <td>0.000000</td>\n",
              "    </tr>\n",
              "    <tr>\n",
              "      <th>4</th>\n",
              "      <td>q12</td>\n",
              "      <td>0.849240</td>\n",
              "      <td>0.814769</td>\n",
              "      <td>0.785934</td>\n",
              "      <td>0.808560</td>\n",
              "      <td>0.832769</td>\n",
              "      <td>0.174056</td>\n",
              "      <td>0.183079</td>\n",
              "      <td>0.183079</td>\n",
              "      <td>0.180061</td>\n",
              "      <td>0.177703</td>\n",
              "      <td>0.892816</td>\n",
              "      <td>0.944375</td>\n",
              "      <td>0.897169</td>\n",
              "      <td>0.115751</td>\n",
              "      <td>0.052482</td>\n",
              "      <td>0.107592</td>\n",
              "      <td>0.111123</td>\n",
              "      <td>0.131938</td>\n",
              "    </tr>\n",
              "  </tbody>\n",
              "</table>\n",
              "</div>"
            ],
            "text/plain": [
              "     q      bm25     tfidf    lsi_50  ...   lda_250   lda_300   lda_350   lda_400\n",
              "0   q0  0.667803  0.616077  0.505859  ...  0.338195  0.287775  0.262456  0.393845\n",
              "1   q1  0.925279  0.852397  0.886787  ...  0.132466  0.068315  0.000000  0.000000\n",
              "2  q10  0.548869  0.480655  0.549738  ...  0.324068  0.331470  0.280951  0.357436\n",
              "3  q11  0.938003  0.873358  0.917476  ...  0.102531  0.000000  0.000000  0.000000\n",
              "4  q12  0.849240  0.814769  0.785934  ...  0.052482  0.107592  0.111123  0.131938\n",
              "\n",
              "[5 rows x 19 columns]"
            ]
          },
          "metadata": {
            "tags": []
          },
          "execution_count": 11
        }
      ]
    },
    {
      "cell_type": "code",
      "metadata": {
        "id": "2K7zBsYHGaIu",
        "colab_type": "code",
        "outputId": "9e730578-d40d-4400-ffe8-4a4a61134a90",
        "colab": {
          "base_uri": "https://localhost:8080/",
          "height": 293
        }
      },
      "source": [
        "compare_models(df_pcrim_matter)"
      ],
      "execution_count": 0,
      "outputs": [
        {
          "output_type": "display_data",
          "data": {
            "image/png": "[encoded data removed]",
            "text/plain": [
              "<Figure size 432x241.2 with 1 Axes>"
            ]
          },
          "metadata": {
            "tags": []
          }
        }
      ]
    },
    {
      "cell_type": "markdown",
      "metadata": {
        "id": "1MNE7iTrGz9M",
        "colab_type": "text"
      },
      "source": [
        "### Comparing models with legal citation enrichment"
      ]
    },
    {
      "cell_type": "code",
      "metadata": {
        "id": "PHlWw7rNG3Bl",
        "colab_type": "code",
        "outputId": "0f0c07c5-d69f-4805-9f2b-bfd7982d0ae6",
        "colab": {
          "base_uri": "https://localhost:8080/",
          "height": 204
        }
      },
      "source": [
        "df_pcrim_citation = pd.read_csv('pcrim_score_citation_20.csv')\n",
        "df_pcrim_citation.head()"
      ],
      "execution_count": 0,
      "outputs": [
        {
          "output_type": "execute_result",
          "data": {
            "text/html": [
              "<div>\n",
              "<style scoped>\n",
              "    .dataframe tbody tr th:only-of-type {\n",
              "        vertical-align: middle;\n",
              "    }\n",
              "\n",
              "    .dataframe tbody tr th {\n",
              "        vertical-align: top;\n",
              "    }\n",
              "\n",
              "    .dataframe thead th {\n",
              "        text-align: right;\n",
              "    }\n",
              "</style>\n",
              "<table border=\"1\" class=\"dataframe\">\n",
              "  <thead>\n",
              "    <tr style=\"text-align: right;\">\n",
              "      <th></th>\n",
              "      <th>q</th>\n",
              "      <th>bm25</th>\n",
              "      <th>tfidf</th>\n",
              "      <th>lsi_50</th>\n",
              "      <th>lsi_100</th>\n",
              "      <th>lsi_150</th>\n",
              "      <th>lsi_200</th>\n",
              "      <th>lsi_250</th>\n",
              "      <th>lsi_300</th>\n",
              "      <th>lsi_350</th>\n",
              "      <th>lsi_400</th>\n",
              "      <th>lda_50</th>\n",
              "      <th>lda_100</th>\n",
              "      <th>lda_150</th>\n",
              "      <th>lda_200</th>\n",
              "      <th>lda_250</th>\n",
              "      <th>lda_300</th>\n",
              "      <th>lda_350</th>\n",
              "      <th>lda_400</th>\n",
              "    </tr>\n",
              "  </thead>\n",
              "  <tbody>\n",
              "    <tr>\n",
              "      <th>0</th>\n",
              "      <td>q0</td>\n",
              "      <td>0.593948</td>\n",
              "      <td>0.647607</td>\n",
              "      <td>0.542399</td>\n",
              "      <td>0.458011</td>\n",
              "      <td>0.500876</td>\n",
              "      <td>0.000000</td>\n",
              "      <td>0.000000</td>\n",
              "      <td>0.000000</td>\n",
              "      <td>0.000000</td>\n",
              "      <td>0.031019</td>\n",
              "      <td>0.217432</td>\n",
              "      <td>0.219821</td>\n",
              "      <td>0.634070</td>\n",
              "      <td>0.158195</td>\n",
              "      <td>0.082067</td>\n",
              "      <td>0.062801</td>\n",
              "      <td>0.10549</td>\n",
              "      <td>0.123802</td>\n",
              "    </tr>\n",
              "    <tr>\n",
              "      <th>1</th>\n",
              "      <td>q1</td>\n",
              "      <td>0.925279</td>\n",
              "      <td>0.852397</td>\n",
              "      <td>0.886787</td>\n",
              "      <td>0.887899</td>\n",
              "      <td>0.888584</td>\n",
              "      <td>0.035704</td>\n",
              "      <td>0.035704</td>\n",
              "      <td>0.000000</td>\n",
              "      <td>0.000000</td>\n",
              "      <td>0.000000</td>\n",
              "      <td>0.922187</td>\n",
              "      <td>0.906924</td>\n",
              "      <td>0.903619</td>\n",
              "      <td>0.136416</td>\n",
              "      <td>0.067704</td>\n",
              "      <td>0.068315</td>\n",
              "      <td>0.00000</td>\n",
              "      <td>0.000000</td>\n",
              "    </tr>\n",
              "    <tr>\n",
              "      <th>2</th>\n",
              "      <td>q10</td>\n",
              "      <td>0.289377</td>\n",
              "      <td>0.182609</td>\n",
              "      <td>0.054587</td>\n",
              "      <td>0.061272</td>\n",
              "      <td>0.073183</td>\n",
              "      <td>0.031019</td>\n",
              "      <td>0.111309</td>\n",
              "      <td>0.065333</td>\n",
              "      <td>0.069744</td>\n",
              "      <td>0.090180</td>\n",
              "      <td>0.213680</td>\n",
              "      <td>0.000000</td>\n",
              "      <td>0.071375</td>\n",
              "      <td>0.151218</td>\n",
              "      <td>0.042291</td>\n",
              "      <td>0.067030</td>\n",
              "      <td>0.06703</td>\n",
              "      <td>0.089374</td>\n",
              "    </tr>\n",
              "    <tr>\n",
              "      <th>3</th>\n",
              "      <td>q11</td>\n",
              "      <td>0.938003</td>\n",
              "      <td>0.873358</td>\n",
              "      <td>0.917476</td>\n",
              "      <td>0.917515</td>\n",
              "      <td>0.918200</td>\n",
              "      <td>0.000000</td>\n",
              "      <td>0.000000</td>\n",
              "      <td>0.000000</td>\n",
              "      <td>0.000000</td>\n",
              "      <td>0.000000</td>\n",
              "      <td>0.922187</td>\n",
              "      <td>0.906924</td>\n",
              "      <td>0.903619</td>\n",
              "      <td>0.016809</td>\n",
              "      <td>0.102531</td>\n",
              "      <td>0.000000</td>\n",
              "      <td>0.00000</td>\n",
              "      <td>0.000000</td>\n",
              "    </tr>\n",
              "    <tr>\n",
              "      <th>4</th>\n",
              "      <td>q12</td>\n",
              "      <td>0.889690</td>\n",
              "      <td>0.869142</td>\n",
              "      <td>0.876907</td>\n",
              "      <td>0.878281</td>\n",
              "      <td>0.879181</td>\n",
              "      <td>0.481721</td>\n",
              "      <td>0.492835</td>\n",
              "      <td>0.493639</td>\n",
              "      <td>0.493012</td>\n",
              "      <td>0.526025</td>\n",
              "      <td>0.899912</td>\n",
              "      <td>0.944375</td>\n",
              "      <td>0.897169</td>\n",
              "      <td>0.474360</td>\n",
              "      <td>0.322260</td>\n",
              "      <td>0.514609</td>\n",
              "      <td>0.52691</td>\n",
              "      <td>0.493865</td>\n",
              "    </tr>\n",
              "  </tbody>\n",
              "</table>\n",
              "</div>"
            ],
            "text/plain": [
              "     q      bm25     tfidf    lsi_50  ...   lda_250   lda_300  lda_350   lda_400\n",
              "0   q0  0.593948  0.647607  0.542399  ...  0.082067  0.062801  0.10549  0.123802\n",
              "1   q1  0.925279  0.852397  0.886787  ...  0.067704  0.068315  0.00000  0.000000\n",
              "2  q10  0.289377  0.182609  0.054587  ...  0.042291  0.067030  0.06703  0.089374\n",
              "3  q11  0.938003  0.873358  0.917476  ...  0.102531  0.000000  0.00000  0.000000\n",
              "4  q12  0.889690  0.869142  0.876907  ...  0.322260  0.514609  0.52691  0.493865\n",
              "\n",
              "[5 rows x 19 columns]"
            ]
          },
          "metadata": {
            "tags": []
          },
          "execution_count": 13
        }
      ]
    },
    {
      "cell_type": "code",
      "metadata": {
        "id": "3GXBKj3hG8nb",
        "colab_type": "code",
        "outputId": "3fee085c-45e4-4026-c9ca-6ae2248b1455",
        "colab": {
          "base_uri": "https://localhost:8080/",
          "height": 286
        }
      },
      "source": [
        "compare_models(df_pcrim_citation)"
      ],
      "execution_count": 0,
      "outputs": [
        {
          "output_type": "display_data",
          "data": {
            "image/png": "[encoded data removed]",
            "text/plain": [
              "<Figure size 432x234 with 1 Axes>"
            ]
          },
          "metadata": {
            "tags": []
          }
        }
      ]
    },
    {
      "cell_type": "markdown",
      "metadata": {
        "id": "KWhaFH6LpVXy",
        "colab_type": "text"
      },
      "source": [
        "### Comparing models with matter and legal citation enrichment"
      ]
    },
    {
      "cell_type": "code",
      "metadata": {
        "id": "VRhuZBCgHXSf",
        "colab_type": "code",
        "outputId": "b847f986-a30b-4a9b-d7d4-a17860e9cf94",
        "colab": {
          "base_uri": "https://localhost:8080/",
          "height": 204
        }
      },
      "source": [
        "df_pcrim_matter_citation = pd.read_csv('pcrim_score_matter_citation_20.csv')\n",
        "df_pcrim_matter_citation.head()"
      ],
      "execution_count": 0,
      "outputs": [
        {
          "output_type": "execute_result",
          "data": {
            "text/html": [
              "<div>\n",
              "<style scoped>\n",
              "    .dataframe tbody tr th:only-of-type {\n",
              "        vertical-align: middle;\n",
              "    }\n",
              "\n",
              "    .dataframe tbody tr th {\n",
              "        vertical-align: top;\n",
              "    }\n",
              "\n",
              "    .dataframe thead th {\n",
              "        text-align: right;\n",
              "    }\n",
              "</style>\n",
              "<table border=\"1\" class=\"dataframe\">\n",
              "  <thead>\n",
              "    <tr style=\"text-align: right;\">\n",
              "      <th></th>\n",
              "      <th>q</th>\n",
              "      <th>bm25</th>\n",
              "      <th>tfidf</th>\n",
              "      <th>lsi_50</th>\n",
              "      <th>lsi_100</th>\n",
              "      <th>lsi_150</th>\n",
              "      <th>lsi_200</th>\n",
              "      <th>lsi_250</th>\n",
              "      <th>lsi_300</th>\n",
              "      <th>lsi_350</th>\n",
              "      <th>lsi_400</th>\n",
              "      <th>lda_50</th>\n",
              "      <th>lda_100</th>\n",
              "      <th>lda_150</th>\n",
              "      <th>lda_200</th>\n",
              "      <th>lda_250</th>\n",
              "      <th>lda_300</th>\n",
              "      <th>lda_350</th>\n",
              "      <th>lda_400</th>\n",
              "    </tr>\n",
              "  </thead>\n",
              "  <tbody>\n",
              "    <tr>\n",
              "      <th>0</th>\n",
              "      <td>q0</td>\n",
              "      <td>0.667803</td>\n",
              "      <td>0.647607</td>\n",
              "      <td>0.542399</td>\n",
              "      <td>0.458011</td>\n",
              "      <td>0.500876</td>\n",
              "      <td>0.171474</td>\n",
              "      <td>0.179045</td>\n",
              "      <td>0.162773</td>\n",
              "      <td>0.157920</td>\n",
              "      <td>0.165292</td>\n",
              "      <td>0.184643</td>\n",
              "      <td>0.219821</td>\n",
              "      <td>0.184659</td>\n",
              "      <td>0.484491</td>\n",
              "      <td>0.421536</td>\n",
              "      <td>0.401594</td>\n",
              "      <td>0.324927</td>\n",
              "      <td>0.446669</td>\n",
              "    </tr>\n",
              "    <tr>\n",
              "      <th>1</th>\n",
              "      <td>q1</td>\n",
              "      <td>0.925279</td>\n",
              "      <td>0.852397</td>\n",
              "      <td>0.886787</td>\n",
              "      <td>0.887899</td>\n",
              "      <td>0.888584</td>\n",
              "      <td>0.035704</td>\n",
              "      <td>0.035704</td>\n",
              "      <td>0.000000</td>\n",
              "      <td>0.000000</td>\n",
              "      <td>0.000000</td>\n",
              "      <td>0.922187</td>\n",
              "      <td>0.906924</td>\n",
              "      <td>0.903619</td>\n",
              "      <td>0.138703</td>\n",
              "      <td>0.030132</td>\n",
              "      <td>0.000000</td>\n",
              "      <td>0.000000</td>\n",
              "      <td>0.017295</td>\n",
              "    </tr>\n",
              "    <tr>\n",
              "      <th>2</th>\n",
              "      <td>q10</td>\n",
              "      <td>0.657684</td>\n",
              "      <td>0.551363</td>\n",
              "      <td>0.612908</td>\n",
              "      <td>0.587524</td>\n",
              "      <td>0.519936</td>\n",
              "      <td>0.316528</td>\n",
              "      <td>0.499373</td>\n",
              "      <td>0.343138</td>\n",
              "      <td>0.336028</td>\n",
              "      <td>0.341914</td>\n",
              "      <td>0.522901</td>\n",
              "      <td>0.525018</td>\n",
              "      <td>0.557892</td>\n",
              "      <td>0.390117</td>\n",
              "      <td>0.395796</td>\n",
              "      <td>0.420212</td>\n",
              "      <td>0.357589</td>\n",
              "      <td>0.393055</td>\n",
              "    </tr>\n",
              "    <tr>\n",
              "      <th>3</th>\n",
              "      <td>q11</td>\n",
              "      <td>0.938003</td>\n",
              "      <td>0.873358</td>\n",
              "      <td>0.917476</td>\n",
              "      <td>0.917515</td>\n",
              "      <td>0.918200</td>\n",
              "      <td>0.000000</td>\n",
              "      <td>0.000000</td>\n",
              "      <td>0.000000</td>\n",
              "      <td>0.000000</td>\n",
              "      <td>0.000000</td>\n",
              "      <td>0.922187</td>\n",
              "      <td>0.906924</td>\n",
              "      <td>0.903619</td>\n",
              "      <td>0.097139</td>\n",
              "      <td>0.063999</td>\n",
              "      <td>0.000000</td>\n",
              "      <td>0.000000</td>\n",
              "      <td>0.000000</td>\n",
              "    </tr>\n",
              "    <tr>\n",
              "      <th>4</th>\n",
              "      <td>q12</td>\n",
              "      <td>0.909207</td>\n",
              "      <td>0.869142</td>\n",
              "      <td>0.862199</td>\n",
              "      <td>0.893545</td>\n",
              "      <td>0.894445</td>\n",
              "      <td>0.656740</td>\n",
              "      <td>0.639025</td>\n",
              "      <td>0.605507</td>\n",
              "      <td>0.618471</td>\n",
              "      <td>0.639652</td>\n",
              "      <td>0.924191</td>\n",
              "      <td>0.944375</td>\n",
              "      <td>0.897169</td>\n",
              "      <td>0.586102</td>\n",
              "      <td>0.499015</td>\n",
              "      <td>0.663691</td>\n",
              "      <td>0.622068</td>\n",
              "      <td>0.578016</td>\n",
              "    </tr>\n",
              "  </tbody>\n",
              "</table>\n",
              "</div>"
            ],
            "text/plain": [
              "     q      bm25     tfidf    lsi_50  ...   lda_250   lda_300   lda_350   lda_400\n",
              "0   q0  0.667803  0.647607  0.542399  ...  0.421536  0.401594  0.324927  0.446669\n",
              "1   q1  0.925279  0.852397  0.886787  ...  0.030132  0.000000  0.000000  0.017295\n",
              "2  q10  0.657684  0.551363  0.612908  ...  0.395796  0.420212  0.357589  0.393055\n",
              "3  q11  0.938003  0.873358  0.917476  ...  0.063999  0.000000  0.000000  0.000000\n",
              "4  q12  0.909207  0.869142  0.862199  ...  0.499015  0.663691  0.622068  0.578016\n",
              "\n",
              "[5 rows x 19 columns]"
            ]
          },
          "metadata": {
            "tags": []
          },
          "execution_count": 15
        }
      ]
    },
    {
      "cell_type": "code",
      "metadata": {
        "id": "M2fJTdT5HhxH",
        "colab_type": "code",
        "outputId": "5f5ec901-6cdd-47bd-8ed9-a29789599994",
        "colab": {
          "base_uri": "https://localhost:8080/",
          "height": 293
        }
      },
      "source": [
        "compare_models(df_pcrim_matter_citation)"
      ],
      "execution_count": 0,
      "outputs": [
        {
          "output_type": "display_data",
          "data": {
            "image/png": "[encoded data removed]",
            "text/plain": [
              "<Figure size 432x241.2 with 1 Axes>"
            ]
          },
          "metadata": {
            "tags": []
          }
        }
      ]
    },
    {
      "cell_type": "markdown",
      "metadata": {
        "id": "JDYTykbqX68R",
        "colab_type": "text"
      },
      "source": [
        "### Assessing enrichment method performance impact"
      ]
    },
    {
      "cell_type": "code",
      "metadata": {
        "id": "BIs6FGZ8lgVR",
        "colab_type": "code",
        "outputId": "6cacf76b-d5b4-4159-c121-252d8e635505",
        "colab": {
          "base_uri": "https://localhost:8080/",
          "height": 474
        }
      },
      "source": [
        "plot_enrich_comparison(df_pcrim_pure, df_pcrim_matter, df_pcrim_citation, df_pcrim_matter_citation)"
      ],
      "execution_count": 0,
      "outputs": [
        {
          "output_type": "execute_result",
          "data": {
            "text/html": [
              "<div>\n",
              "<style scoped>\n",
              "    .dataframe tbody tr th:only-of-type {\n",
              "        vertical-align: middle;\n",
              "    }\n",
              "\n",
              "    .dataframe tbody tr th {\n",
              "        vertical-align: top;\n",
              "    }\n",
              "\n",
              "    .dataframe thead th {\n",
              "        text-align: right;\n",
              "    }\n",
              "</style>\n",
              "<table border=\"1\" class=\"dataframe\">\n",
              "  <thead>\n",
              "    <tr style=\"text-align: right;\">\n",
              "      <th></th>\n",
              "      <th>bm25</th>\n",
              "      <th>tfidf</th>\n",
              "      <th>lsi_50</th>\n",
              "      <th>lsi_100</th>\n",
              "      <th>lsi_150</th>\n",
              "      <th>lsi_200</th>\n",
              "      <th>lsi_250</th>\n",
              "      <th>lsi_300</th>\n",
              "      <th>lsi_350</th>\n",
              "      <th>lsi_400</th>\n",
              "      <th>lda_50</th>\n",
              "      <th>lda_100</th>\n",
              "      <th>lda_150</th>\n",
              "      <th>lda_200</th>\n",
              "      <th>lda_250</th>\n",
              "      <th>lda_300</th>\n",
              "      <th>lda_350</th>\n",
              "      <th>lda_400</th>\n",
              "    </tr>\n",
              "  </thead>\n",
              "  <tbody>\n",
              "    <tr>\n",
              "      <th>Basic</th>\n",
              "      <td>0.711535</td>\n",
              "      <td>0.655967</td>\n",
              "      <td>0.618804</td>\n",
              "      <td>0.639070</td>\n",
              "      <td>0.670337</td>\n",
              "      <td>0.032555</td>\n",
              "      <td>0.030756</td>\n",
              "      <td>0.023317</td>\n",
              "      <td>0.025791</td>\n",
              "      <td>0.023803</td>\n",
              "      <td>0.447925</td>\n",
              "      <td>0.475935</td>\n",
              "      <td>0.560189</td>\n",
              "      <td>0.080157</td>\n",
              "      <td>0.091021</td>\n",
              "      <td>0.073002</td>\n",
              "      <td>0.027018</td>\n",
              "      <td>0.079508</td>\n",
              "    </tr>\n",
              "    <tr>\n",
              "      <th>Matter</th>\n",
              "      <td>0.680252</td>\n",
              "      <td>0.642955</td>\n",
              "      <td>0.618588</td>\n",
              "      <td>0.640487</td>\n",
              "      <td>0.654122</td>\n",
              "      <td>0.243056</td>\n",
              "      <td>0.266322</td>\n",
              "      <td>0.234691</td>\n",
              "      <td>0.249966</td>\n",
              "      <td>0.243076</td>\n",
              "      <td>0.477644</td>\n",
              "      <td>0.507676</td>\n",
              "      <td>0.569139</td>\n",
              "      <td>0.254043</td>\n",
              "      <td>0.232535</td>\n",
              "      <td>0.218163</td>\n",
              "      <td>0.211749</td>\n",
              "      <td>0.241383</td>\n",
              "    </tr>\n",
              "    <tr>\n",
              "      <th>Citation</th>\n",
              "      <td>0.688419</td>\n",
              "      <td>0.661125</td>\n",
              "      <td>0.665769</td>\n",
              "      <td>0.675445</td>\n",
              "      <td>0.672546</td>\n",
              "      <td>0.315246</td>\n",
              "      <td>0.348526</td>\n",
              "      <td>0.310051</td>\n",
              "      <td>0.310836</td>\n",
              "      <td>0.308018</td>\n",
              "      <td>0.519018</td>\n",
              "      <td>0.596331</td>\n",
              "      <td>0.643028</td>\n",
              "      <td>0.334889</td>\n",
              "      <td>0.305436</td>\n",
              "      <td>0.279439</td>\n",
              "      <td>0.281678</td>\n",
              "      <td>0.306646</td>\n",
              "    </tr>\n",
              "    <tr>\n",
              "      <th>Matter &amp; Citation</th>\n",
              "      <td>0.643221</td>\n",
              "      <td>0.619830</td>\n",
              "      <td>0.619556</td>\n",
              "      <td>0.629369</td>\n",
              "      <td>0.621719</td>\n",
              "      <td>0.373473</td>\n",
              "      <td>0.399222</td>\n",
              "      <td>0.368404</td>\n",
              "      <td>0.370462</td>\n",
              "      <td>0.380988</td>\n",
              "      <td>0.527282</td>\n",
              "      <td>0.570578</td>\n",
              "      <td>0.602121</td>\n",
              "      <td>0.388390</td>\n",
              "      <td>0.334187</td>\n",
              "      <td>0.372565</td>\n",
              "      <td>0.327059</td>\n",
              "      <td>0.399155</td>\n",
              "    </tr>\n",
              "  </tbody>\n",
              "</table>\n",
              "</div>"
            ],
            "text/plain": [
              "                       bm25     tfidf    lsi_50  ...   lda_300   lda_350   lda_400\n",
              "Basic              0.711535  0.655967  0.618804  ...  0.073002  0.027018  0.079508\n",
              "Matter             0.680252  0.642955  0.618588  ...  0.218163  0.211749  0.241383\n",
              "Citation           0.688419  0.661125  0.665769  ...  0.279439  0.281678  0.306646\n",
              "Matter & Citation  0.643221  0.619830  0.619556  ...  0.372565  0.327059  0.399155\n",
              "\n",
              "[4 rows x 18 columns]"
            ]
          },
          "metadata": {
            "tags": []
          },
          "execution_count": 17
        },
        {
          "output_type": "display_data",
          "data": {
            "image/png": "[encoded data removed]",
            "text/plain": [
              "<Figure size 432x288 with 1 Axes>"
            ]
          },
          "metadata": {
            "tags": []
          }
        }
      ]
    },
    {
      "cell_type": "markdown",
      "metadata": {
        "id": "jrH4exjUpPtk",
        "colab_type": "text"
      },
      "source": [
        "In this corpus, rank modification methods increased NDCG for models which pure version was low. For the group of best performing models, rank modification methods has no influence, and in some cases, decreases the performance."
      ]
    },
    {
      "cell_type": "markdown",
      "metadata": {
        "id": "CNZmhVQAr1Vs",
        "colab_type": "text"
      },
      "source": [
        "# Specialized Criminal Prosecution Office Corpus assesment"
      ]
    },
    {
      "cell_type": "markdown",
      "metadata": {
        "id": "BmtLcs_6r9kC",
        "colab_type": "text"
      },
      "source": [
        "## Pure models comparison"
      ]
    },
    {
      "cell_type": "markdown",
      "metadata": {
        "id": "y_RFbT7SCao9",
        "colab_type": "text"
      },
      "source": [
        "### Loading models NDCG score datasets"
      ]
    },
    {
      "cell_type": "code",
      "metadata": {
        "id": "Rel6K76T6nE1",
        "colab_type": "code",
        "colab": {}
      },
      "source": [
        "\n",
        " \n",
        "datasets = [\n",
        "    ('1kRZ-n-8UHu5PyI5nqJd6HD0csUnSvj5j', 'pcrimesp_score_pure_20.csv'),\n",
        "    ('1zgx1pmrn4BEL-Zzvp7Pqb7PH2E8oQ8sO', 'pcrimesp_score_matter_20.csv'),\n",
        "    ('1y0TFf4wkPz7W9kH0un0VkJfg-Or5I_hO', 'pcrimesp_score_citation_20.csv'),\n",
        "    ('1veyee2MT5ghAMrgZ8g9Rd4d0Zg7WErj1', 'pcrimesp_score_matter_citation_20.csv'),\n",
        "\n",
        "]\n",
        "\n",
        "for d in datasets:\n",
        "  load_from_drive(*d)\n",
        "  \n"
      ],
      "execution_count": 0,
      "outputs": []
    },
    {
      "cell_type": "markdown",
      "metadata": {
        "id": "DFnA5cGwIBcc",
        "colab_type": "text"
      },
      "source": [
        "### Comparing pure models"
      ]
    },
    {
      "cell_type": "code",
      "metadata": {
        "id": "9HwXapFq8AJZ",
        "colab_type": "code",
        "outputId": "9f1e6bfe-0d96-484b-e2b7-c968ae865a9f",
        "colab": {
          "base_uri": "https://localhost:8080/",
          "height": 204
        }
      },
      "source": [
        "df_pcrimesp_pure = pd.read_csv('pcrimesp_score_pure_20.csv')\n",
        "df_pcrimesp_pure.head()"
      ],
      "execution_count": 0,
      "outputs": [
        {
          "output_type": "execute_result",
          "data": {
            "text/html": [
              "<div>\n",
              "<style scoped>\n",
              "    .dataframe tbody tr th:only-of-type {\n",
              "        vertical-align: middle;\n",
              "    }\n",
              "\n",
              "    .dataframe tbody tr th {\n",
              "        vertical-align: top;\n",
              "    }\n",
              "\n",
              "    .dataframe thead th {\n",
              "        text-align: right;\n",
              "    }\n",
              "</style>\n",
              "<table border=\"1\" class=\"dataframe\">\n",
              "  <thead>\n",
              "    <tr style=\"text-align: right;\">\n",
              "      <th></th>\n",
              "      <th>q</th>\n",
              "      <th>bm25</th>\n",
              "      <th>tfidf</th>\n",
              "      <th>lsi_50</th>\n",
              "      <th>lsi_100</th>\n",
              "      <th>lsi_150</th>\n",
              "      <th>lsi_200</th>\n",
              "      <th>lsi_250</th>\n",
              "      <th>lsi_300</th>\n",
              "      <th>lsi_350</th>\n",
              "      <th>lsi_400</th>\n",
              "      <th>lda_50</th>\n",
              "      <th>lda_100</th>\n",
              "      <th>lda_150</th>\n",
              "      <th>lda_200</th>\n",
              "      <th>lda_250</th>\n",
              "      <th>lda_300</th>\n",
              "      <th>lda_350</th>\n",
              "      <th>lda_400</th>\n",
              "    </tr>\n",
              "  </thead>\n",
              "  <tbody>\n",
              "    <tr>\n",
              "      <th>0</th>\n",
              "      <td>q0</td>\n",
              "      <td>0.973745</td>\n",
              "      <td>0.917345</td>\n",
              "      <td>0.936562</td>\n",
              "      <td>0.970411</td>\n",
              "      <td>0.972016</td>\n",
              "      <td>0.949126</td>\n",
              "      <td>0.956725</td>\n",
              "      <td>0.942796</td>\n",
              "      <td>0.942796</td>\n",
              "      <td>0.942796</td>\n",
              "      <td>0.846914</td>\n",
              "      <td>0.987511</td>\n",
              "      <td>0.990288</td>\n",
              "      <td>0.969424</td>\n",
              "      <td>0.981364</td>\n",
              "      <td>0.985602</td>\n",
              "      <td>0.942710</td>\n",
              "      <td>0.932209</td>\n",
              "    </tr>\n",
              "    <tr>\n",
              "      <th>1</th>\n",
              "      <td>q1</td>\n",
              "      <td>0.805115</td>\n",
              "      <td>0.919601</td>\n",
              "      <td>0.809300</td>\n",
              "      <td>0.897626</td>\n",
              "      <td>0.899563</td>\n",
              "      <td>0.915234</td>\n",
              "      <td>0.905326</td>\n",
              "      <td>0.917182</td>\n",
              "      <td>0.903069</td>\n",
              "      <td>0.917639</td>\n",
              "      <td>0.609170</td>\n",
              "      <td>0.427563</td>\n",
              "      <td>0.706273</td>\n",
              "      <td>0.497639</td>\n",
              "      <td>0.625240</td>\n",
              "      <td>0.717290</td>\n",
              "      <td>0.683689</td>\n",
              "      <td>0.687216</td>\n",
              "    </tr>\n",
              "    <tr>\n",
              "      <th>2</th>\n",
              "      <td>q10</td>\n",
              "      <td>0.955069</td>\n",
              "      <td>0.871848</td>\n",
              "      <td>0.936562</td>\n",
              "      <td>0.926377</td>\n",
              "      <td>0.926377</td>\n",
              "      <td>0.900640</td>\n",
              "      <td>0.869574</td>\n",
              "      <td>0.907685</td>\n",
              "      <td>0.890558</td>\n",
              "      <td>0.901004</td>\n",
              "      <td>0.846914</td>\n",
              "      <td>0.987511</td>\n",
              "      <td>0.990288</td>\n",
              "      <td>0.967819</td>\n",
              "      <td>0.981364</td>\n",
              "      <td>0.984764</td>\n",
              "      <td>0.942710</td>\n",
              "      <td>0.887278</td>\n",
              "    </tr>\n",
              "    <tr>\n",
              "      <th>3</th>\n",
              "      <td>q11</td>\n",
              "      <td>0.842762</td>\n",
              "      <td>0.872553</td>\n",
              "      <td>0.847051</td>\n",
              "      <td>0.809277</td>\n",
              "      <td>0.816760</td>\n",
              "      <td>0.828417</td>\n",
              "      <td>0.813632</td>\n",
              "      <td>0.851882</td>\n",
              "      <td>0.856157</td>\n",
              "      <td>0.864858</td>\n",
              "      <td>0.600279</td>\n",
              "      <td>0.622978</td>\n",
              "      <td>0.718603</td>\n",
              "      <td>0.803196</td>\n",
              "      <td>0.709260</td>\n",
              "      <td>0.672907</td>\n",
              "      <td>0.657633</td>\n",
              "      <td>0.645412</td>\n",
              "    </tr>\n",
              "    <tr>\n",
              "      <th>4</th>\n",
              "      <td>q12</td>\n",
              "      <td>0.526683</td>\n",
              "      <td>0.575371</td>\n",
              "      <td>0.575278</td>\n",
              "      <td>0.721814</td>\n",
              "      <td>0.665775</td>\n",
              "      <td>0.633970</td>\n",
              "      <td>0.622156</td>\n",
              "      <td>0.607875</td>\n",
              "      <td>0.569219</td>\n",
              "      <td>0.568495</td>\n",
              "      <td>0.322912</td>\n",
              "      <td>0.285639</td>\n",
              "      <td>0.131816</td>\n",
              "      <td>0.256167</td>\n",
              "      <td>0.058457</td>\n",
              "      <td>0.198686</td>\n",
              "      <td>0.261808</td>\n",
              "      <td>0.286278</td>\n",
              "    </tr>\n",
              "  </tbody>\n",
              "</table>\n",
              "</div>"
            ],
            "text/plain": [
              "     q      bm25     tfidf    lsi_50  ...   lda_250   lda_300   lda_350   lda_400\n",
              "0   q0  0.973745  0.917345  0.936562  ...  0.981364  0.985602  0.942710  0.932209\n",
              "1   q1  0.805115  0.919601  0.809300  ...  0.625240  0.717290  0.683689  0.687216\n",
              "2  q10  0.955069  0.871848  0.936562  ...  0.981364  0.984764  0.942710  0.887278\n",
              "3  q11  0.842762  0.872553  0.847051  ...  0.709260  0.672907  0.657633  0.645412\n",
              "4  q12  0.526683  0.575371  0.575278  ...  0.058457  0.198686  0.261808  0.286278\n",
              "\n",
              "[5 rows x 19 columns]"
            ]
          },
          "metadata": {
            "tags": []
          },
          "execution_count": 19
        }
      ]
    },
    {
      "cell_type": "code",
      "metadata": {
        "id": "BZybREq5_IV1",
        "colab_type": "code",
        "outputId": "2920a532-2e18-4169-bbaa-ac169d9bfaab",
        "colab": {
          "base_uri": "https://localhost:8080/",
          "height": 300
        }
      },
      "source": [
        "compare_models(df_pcrimesp_pure)"
      ],
      "execution_count": 0,
      "outputs": [
        {
          "output_type": "display_data",
          "data": {
            "image/png": "[encoded data removed]",
            "text/plain": [
              "<Figure size 432x248.4 with 1 Axes>"
            ]
          },
          "metadata": {
            "tags": []
          }
        }
      ]
    },
    {
      "cell_type": "markdown",
      "metadata": {
        "id": "ulGHh2bJIQHJ",
        "colab_type": "text"
      },
      "source": [
        "###Comparing models with matter enrichment"
      ]
    },
    {
      "cell_type": "code",
      "metadata": {
        "id": "itEHR5GP_cGU",
        "colab_type": "code",
        "outputId": "322a6041-b108-4193-b79c-c9bb173c540c",
        "colab": {
          "base_uri": "https://localhost:8080/",
          "height": 204
        }
      },
      "source": [
        "df_pcrimesp_matter = pd.read_csv('pcrimesp_score_matter_20.csv')\n",
        "df_pcrimesp_matter.head()"
      ],
      "execution_count": 0,
      "outputs": [
        {
          "output_type": "execute_result",
          "data": {
            "text/html": [
              "<div>\n",
              "<style scoped>\n",
              "    .dataframe tbody tr th:only-of-type {\n",
              "        vertical-align: middle;\n",
              "    }\n",
              "\n",
              "    .dataframe tbody tr th {\n",
              "        vertical-align: top;\n",
              "    }\n",
              "\n",
              "    .dataframe thead th {\n",
              "        text-align: right;\n",
              "    }\n",
              "</style>\n",
              "<table border=\"1\" class=\"dataframe\">\n",
              "  <thead>\n",
              "    <tr style=\"text-align: right;\">\n",
              "      <th></th>\n",
              "      <th>q</th>\n",
              "      <th>bm25</th>\n",
              "      <th>tfidf</th>\n",
              "      <th>lsi_50</th>\n",
              "      <th>lsi_100</th>\n",
              "      <th>lsi_150</th>\n",
              "      <th>lsi_200</th>\n",
              "      <th>lsi_250</th>\n",
              "      <th>lsi_300</th>\n",
              "      <th>lsi_350</th>\n",
              "      <th>lsi_400</th>\n",
              "      <th>lda_50</th>\n",
              "      <th>lda_100</th>\n",
              "      <th>lda_150</th>\n",
              "      <th>lda_200</th>\n",
              "      <th>lda_250</th>\n",
              "      <th>lda_300</th>\n",
              "      <th>lda_350</th>\n",
              "      <th>lda_400</th>\n",
              "    </tr>\n",
              "  </thead>\n",
              "  <tbody>\n",
              "    <tr>\n",
              "      <th>0</th>\n",
              "      <td>q0</td>\n",
              "      <td>0.667803</td>\n",
              "      <td>0.616077</td>\n",
              "      <td>0.505859</td>\n",
              "      <td>0.468507</td>\n",
              "      <td>0.495726</td>\n",
              "      <td>0.079001</td>\n",
              "      <td>0.086111</td>\n",
              "      <td>0.150341</td>\n",
              "      <td>0.086710</td>\n",
              "      <td>0.115748</td>\n",
              "      <td>0.232524</td>\n",
              "      <td>0.170361</td>\n",
              "      <td>0.169943</td>\n",
              "      <td>0.449326</td>\n",
              "      <td>0.338195</td>\n",
              "      <td>0.287775</td>\n",
              "      <td>0.262456</td>\n",
              "      <td>0.393845</td>\n",
              "    </tr>\n",
              "    <tr>\n",
              "      <th>1</th>\n",
              "      <td>q1</td>\n",
              "      <td>0.925279</td>\n",
              "      <td>0.852397</td>\n",
              "      <td>0.886787</td>\n",
              "      <td>0.887899</td>\n",
              "      <td>0.888584</td>\n",
              "      <td>0.035704</td>\n",
              "      <td>0.035704</td>\n",
              "      <td>0.000000</td>\n",
              "      <td>0.000000</td>\n",
              "      <td>0.000000</td>\n",
              "      <td>0.922187</td>\n",
              "      <td>0.906924</td>\n",
              "      <td>0.903619</td>\n",
              "      <td>0.138703</td>\n",
              "      <td>0.132466</td>\n",
              "      <td>0.068315</td>\n",
              "      <td>0.000000</td>\n",
              "      <td>0.000000</td>\n",
              "    </tr>\n",
              "    <tr>\n",
              "      <th>2</th>\n",
              "      <td>q10</td>\n",
              "      <td>0.548869</td>\n",
              "      <td>0.480655</td>\n",
              "      <td>0.549738</td>\n",
              "      <td>0.544026</td>\n",
              "      <td>0.500394</td>\n",
              "      <td>0.202104</td>\n",
              "      <td>0.318053</td>\n",
              "      <td>0.209377</td>\n",
              "      <td>0.249555</td>\n",
              "      <td>0.216434</td>\n",
              "      <td>0.490575</td>\n",
              "      <td>0.461172</td>\n",
              "      <td>0.573238</td>\n",
              "      <td>0.301437</td>\n",
              "      <td>0.324068</td>\n",
              "      <td>0.331470</td>\n",
              "      <td>0.280951</td>\n",
              "      <td>0.357436</td>\n",
              "    </tr>\n",
              "    <tr>\n",
              "      <th>3</th>\n",
              "      <td>q11</td>\n",
              "      <td>0.938003</td>\n",
              "      <td>0.873358</td>\n",
              "      <td>0.917476</td>\n",
              "      <td>0.917515</td>\n",
              "      <td>0.918200</td>\n",
              "      <td>0.000000</td>\n",
              "      <td>0.000000</td>\n",
              "      <td>0.000000</td>\n",
              "      <td>0.000000</td>\n",
              "      <td>0.000000</td>\n",
              "      <td>0.922187</td>\n",
              "      <td>0.906924</td>\n",
              "      <td>0.903619</td>\n",
              "      <td>0.097139</td>\n",
              "      <td>0.102531</td>\n",
              "      <td>0.000000</td>\n",
              "      <td>0.000000</td>\n",
              "      <td>0.000000</td>\n",
              "    </tr>\n",
              "    <tr>\n",
              "      <th>4</th>\n",
              "      <td>q12</td>\n",
              "      <td>0.849240</td>\n",
              "      <td>0.814769</td>\n",
              "      <td>0.785934</td>\n",
              "      <td>0.808560</td>\n",
              "      <td>0.832769</td>\n",
              "      <td>0.174056</td>\n",
              "      <td>0.183079</td>\n",
              "      <td>0.183079</td>\n",
              "      <td>0.180061</td>\n",
              "      <td>0.177703</td>\n",
              "      <td>0.892816</td>\n",
              "      <td>0.944375</td>\n",
              "      <td>0.897169</td>\n",
              "      <td>0.115751</td>\n",
              "      <td>0.052482</td>\n",
              "      <td>0.107592</td>\n",
              "      <td>0.111123</td>\n",
              "      <td>0.131938</td>\n",
              "    </tr>\n",
              "  </tbody>\n",
              "</table>\n",
              "</div>"
            ],
            "text/plain": [
              "     q      bm25     tfidf    lsi_50  ...   lda_250   lda_300   lda_350   lda_400\n",
              "0   q0  0.667803  0.616077  0.505859  ...  0.338195  0.287775  0.262456  0.393845\n",
              "1   q1  0.925279  0.852397  0.886787  ...  0.132466  0.068315  0.000000  0.000000\n",
              "2  q10  0.548869  0.480655  0.549738  ...  0.324068  0.331470  0.280951  0.357436\n",
              "3  q11  0.938003  0.873358  0.917476  ...  0.102531  0.000000  0.000000  0.000000\n",
              "4  q12  0.849240  0.814769  0.785934  ...  0.052482  0.107592  0.111123  0.131938\n",
              "\n",
              "[5 rows x 19 columns]"
            ]
          },
          "metadata": {
            "tags": []
          },
          "execution_count": 21
        }
      ]
    },
    {
      "cell_type": "code",
      "metadata": {
        "id": "g0pYdc0eIVVZ",
        "colab_type": "code",
        "outputId": "35e2c001-8e2f-4655-d826-e56659256856",
        "colab": {
          "base_uri": "https://localhost:8080/",
          "height": 293
        }
      },
      "source": [
        "compare_models(df_pcrimesp_matter)"
      ],
      "execution_count": 0,
      "outputs": [
        {
          "output_type": "display_data",
          "data": {
            "image/png": "[encoded data removed]",
            "text/plain": [
              "<Figure size 432x241.2 with 1 Axes>"
            ]
          },
          "metadata": {
            "tags": []
          }
        }
      ]
    },
    {
      "cell_type": "markdown",
      "metadata": {
        "id": "-TrmKY-sIcrL",
        "colab_type": "text"
      },
      "source": [
        "### Comparing models with legal citation enrichment"
      ]
    },
    {
      "cell_type": "code",
      "metadata": {
        "id": "0KU7J1DgIZaP",
        "colab_type": "code",
        "outputId": "26251136-3c94-4b46-d302-e1346c48375c",
        "colab": {
          "base_uri": "https://localhost:8080/",
          "height": 204
        }
      },
      "source": [
        "df_pcrimesp_citation = pd.read_csv('pcrimesp_score_citation_20.csv')\n",
        "df_pcrimesp_citation.head()"
      ],
      "execution_count": 0,
      "outputs": [
        {
          "output_type": "execute_result",
          "data": {
            "text/html": [
              "<div>\n",
              "<style scoped>\n",
              "    .dataframe tbody tr th:only-of-type {\n",
              "        vertical-align: middle;\n",
              "    }\n",
              "\n",
              "    .dataframe tbody tr th {\n",
              "        vertical-align: top;\n",
              "    }\n",
              "\n",
              "    .dataframe thead th {\n",
              "        text-align: right;\n",
              "    }\n",
              "</style>\n",
              "<table border=\"1\" class=\"dataframe\">\n",
              "  <thead>\n",
              "    <tr style=\"text-align: right;\">\n",
              "      <th></th>\n",
              "      <th>q</th>\n",
              "      <th>bm25</th>\n",
              "      <th>tfidf</th>\n",
              "      <th>lsi_50</th>\n",
              "      <th>lsi_100</th>\n",
              "      <th>lsi_150</th>\n",
              "      <th>lsi_200</th>\n",
              "      <th>lsi_250</th>\n",
              "      <th>lsi_300</th>\n",
              "      <th>lsi_350</th>\n",
              "      <th>lsi_400</th>\n",
              "      <th>lda_50</th>\n",
              "      <th>lda_100</th>\n",
              "      <th>lda_150</th>\n",
              "      <th>lda_200</th>\n",
              "      <th>lda_250</th>\n",
              "      <th>lda_300</th>\n",
              "      <th>lda_350</th>\n",
              "      <th>lda_400</th>\n",
              "    </tr>\n",
              "  </thead>\n",
              "  <tbody>\n",
              "    <tr>\n",
              "      <th>0</th>\n",
              "      <td>q0</td>\n",
              "      <td>0.833250</td>\n",
              "      <td>0.871543</td>\n",
              "      <td>0.837894</td>\n",
              "      <td>0.833691</td>\n",
              "      <td>0.833691</td>\n",
              "      <td>0.873704</td>\n",
              "      <td>0.830973</td>\n",
              "      <td>0.873873</td>\n",
              "      <td>0.873873</td>\n",
              "      <td>0.873873</td>\n",
              "      <td>0.871126</td>\n",
              "      <td>0.840995</td>\n",
              "      <td>0.886635</td>\n",
              "      <td>0.875628</td>\n",
              "      <td>0.837894</td>\n",
              "      <td>0.883585</td>\n",
              "      <td>0.840995</td>\n",
              "      <td>0.837894</td>\n",
              "    </tr>\n",
              "    <tr>\n",
              "      <th>1</th>\n",
              "      <td>q1</td>\n",
              "      <td>0.805115</td>\n",
              "      <td>0.920450</td>\n",
              "      <td>0.900692</td>\n",
              "      <td>0.931444</td>\n",
              "      <td>0.946628</td>\n",
              "      <td>0.950273</td>\n",
              "      <td>0.951700</td>\n",
              "      <td>0.952383</td>\n",
              "      <td>0.937806</td>\n",
              "      <td>0.968934</td>\n",
              "      <td>0.574906</td>\n",
              "      <td>0.575203</td>\n",
              "      <td>0.706273</td>\n",
              "      <td>0.590076</td>\n",
              "      <td>0.654585</td>\n",
              "      <td>0.709163</td>\n",
              "      <td>0.682225</td>\n",
              "      <td>0.690104</td>\n",
              "    </tr>\n",
              "    <tr>\n",
              "      <th>2</th>\n",
              "      <td>q10</td>\n",
              "      <td>0.827092</td>\n",
              "      <td>0.796467</td>\n",
              "      <td>0.837894</td>\n",
              "      <td>0.833691</td>\n",
              "      <td>0.833691</td>\n",
              "      <td>0.829670</td>\n",
              "      <td>0.829670</td>\n",
              "      <td>0.832417</td>\n",
              "      <td>0.829839</td>\n",
              "      <td>0.828183</td>\n",
              "      <td>0.871126</td>\n",
              "      <td>0.840995</td>\n",
              "      <td>0.886635</td>\n",
              "      <td>0.831594</td>\n",
              "      <td>0.837894</td>\n",
              "      <td>0.883585</td>\n",
              "      <td>0.840995</td>\n",
              "      <td>0.723401</td>\n",
              "    </tr>\n",
              "    <tr>\n",
              "      <th>3</th>\n",
              "      <td>q11</td>\n",
              "      <td>0.840669</td>\n",
              "      <td>0.901003</td>\n",
              "      <td>0.906703</td>\n",
              "      <td>0.896394</td>\n",
              "      <td>0.907348</td>\n",
              "      <td>0.878332</td>\n",
              "      <td>0.877740</td>\n",
              "      <td>0.877249</td>\n",
              "      <td>0.876880</td>\n",
              "      <td>0.883545</td>\n",
              "      <td>0.583887</td>\n",
              "      <td>0.631963</td>\n",
              "      <td>0.718603</td>\n",
              "      <td>0.803196</td>\n",
              "      <td>0.694558</td>\n",
              "      <td>0.688697</td>\n",
              "      <td>0.672699</td>\n",
              "      <td>0.645412</td>\n",
              "    </tr>\n",
              "    <tr>\n",
              "      <th>4</th>\n",
              "      <td>q12</td>\n",
              "      <td>0.391748</td>\n",
              "      <td>0.559381</td>\n",
              "      <td>0.505926</td>\n",
              "      <td>0.587999</td>\n",
              "      <td>0.551402</td>\n",
              "      <td>0.536723</td>\n",
              "      <td>0.522478</td>\n",
              "      <td>0.516309</td>\n",
              "      <td>0.506775</td>\n",
              "      <td>0.506472</td>\n",
              "      <td>0.186969</td>\n",
              "      <td>0.204084</td>\n",
              "      <td>0.208895</td>\n",
              "      <td>0.143606</td>\n",
              "      <td>0.156009</td>\n",
              "      <td>0.258579</td>\n",
              "      <td>0.154251</td>\n",
              "      <td>0.167114</td>\n",
              "    </tr>\n",
              "  </tbody>\n",
              "</table>\n",
              "</div>"
            ],
            "text/plain": [
              "     q      bm25     tfidf    lsi_50  ...   lda_250   lda_300   lda_350   lda_400\n",
              "0   q0  0.833250  0.871543  0.837894  ...  0.837894  0.883585  0.840995  0.837894\n",
              "1   q1  0.805115  0.920450  0.900692  ...  0.654585  0.709163  0.682225  0.690104\n",
              "2  q10  0.827092  0.796467  0.837894  ...  0.837894  0.883585  0.840995  0.723401\n",
              "3  q11  0.840669  0.901003  0.906703  ...  0.694558  0.688697  0.672699  0.645412\n",
              "4  q12  0.391748  0.559381  0.505926  ...  0.156009  0.258579  0.154251  0.167114\n",
              "\n",
              "[5 rows x 19 columns]"
            ]
          },
          "metadata": {
            "tags": []
          },
          "execution_count": 23
        }
      ]
    },
    {
      "cell_type": "code",
      "metadata": {
        "id": "4-UXBVoVImaH",
        "colab_type": "code",
        "outputId": "63bbcfb8-2782-4732-f112-d5a639a7e5df",
        "colab": {
          "base_uri": "https://localhost:8080/",
          "height": 272
        }
      },
      "source": [
        "compare_models(df_pcrimesp_citation)"
      ],
      "execution_count": 0,
      "outputs": [
        {
          "output_type": "display_data",
          "data": {
            "image/png": "[encoded data removed]",
            "text/plain": [
              "<Figure size 432x219.6 with 1 Axes>"
            ]
          },
          "metadata": {
            "tags": []
          }
        }
      ]
    },
    {
      "cell_type": "markdown",
      "metadata": {
        "id": "1JH3gRyZIzQX",
        "colab_type": "text"
      },
      "source": [
        "### Comparing models with matter and legal citation enrichment"
      ]
    },
    {
      "cell_type": "code",
      "metadata": {
        "id": "I2LtiTEfIpOX",
        "colab_type": "code",
        "outputId": "e3ea9baf-757c-4e26-ceb0-e25265fc571d",
        "colab": {
          "base_uri": "https://localhost:8080/",
          "height": 204
        }
      },
      "source": [
        "df_pcrimesp_matter_citation = pd.read_csv('pcrimesp_score_matter_citation_20.csv')\n",
        "df_pcrimesp_matter_citation.head()"
      ],
      "execution_count": 0,
      "outputs": [
        {
          "output_type": "execute_result",
          "data": {
            "text/html": [
              "<div>\n",
              "<style scoped>\n",
              "    .dataframe tbody tr th:only-of-type {\n",
              "        vertical-align: middle;\n",
              "    }\n",
              "\n",
              "    .dataframe tbody tr th {\n",
              "        vertical-align: top;\n",
              "    }\n",
              "\n",
              "    .dataframe thead th {\n",
              "        text-align: right;\n",
              "    }\n",
              "</style>\n",
              "<table border=\"1\" class=\"dataframe\">\n",
              "  <thead>\n",
              "    <tr style=\"text-align: right;\">\n",
              "      <th></th>\n",
              "      <th>q</th>\n",
              "      <th>bm25</th>\n",
              "      <th>tfidf</th>\n",
              "      <th>lsi_50</th>\n",
              "      <th>lsi_100</th>\n",
              "      <th>lsi_150</th>\n",
              "      <th>lsi_200</th>\n",
              "      <th>lsi_250</th>\n",
              "      <th>lsi_300</th>\n",
              "      <th>lsi_350</th>\n",
              "      <th>lsi_400</th>\n",
              "      <th>lda_50</th>\n",
              "      <th>lda_100</th>\n",
              "      <th>lda_150</th>\n",
              "      <th>lda_200</th>\n",
              "      <th>lda_250</th>\n",
              "      <th>lda_300</th>\n",
              "      <th>lda_350</th>\n",
              "      <th>lda_400</th>\n",
              "    </tr>\n",
              "  </thead>\n",
              "  <tbody>\n",
              "    <tr>\n",
              "      <th>0</th>\n",
              "      <td>q0</td>\n",
              "      <td>0.833250</td>\n",
              "      <td>0.827390</td>\n",
              "      <td>0.837894</td>\n",
              "      <td>0.833691</td>\n",
              "      <td>0.833691</td>\n",
              "      <td>0.829670</td>\n",
              "      <td>0.830973</td>\n",
              "      <td>0.830973</td>\n",
              "      <td>0.830973</td>\n",
              "      <td>0.830973</td>\n",
              "      <td>0.829670</td>\n",
              "      <td>0.840995</td>\n",
              "      <td>0.840995</td>\n",
              "      <td>0.831594</td>\n",
              "      <td>0.837894</td>\n",
              "      <td>0.839551</td>\n",
              "      <td>0.840995</td>\n",
              "      <td>0.837894</td>\n",
              "    </tr>\n",
              "    <tr>\n",
              "      <th>1</th>\n",
              "      <td>q1</td>\n",
              "      <td>0.780145</td>\n",
              "      <td>0.935910</td>\n",
              "      <td>0.934382</td>\n",
              "      <td>0.931444</td>\n",
              "      <td>0.946628</td>\n",
              "      <td>0.950273</td>\n",
              "      <td>0.951700</td>\n",
              "      <td>0.952383</td>\n",
              "      <td>0.967961</td>\n",
              "      <td>0.968934</td>\n",
              "      <td>0.624940</td>\n",
              "      <td>0.605248</td>\n",
              "      <td>0.671288</td>\n",
              "      <td>0.682929</td>\n",
              "      <td>0.670207</td>\n",
              "      <td>0.678847</td>\n",
              "      <td>0.728950</td>\n",
              "      <td>0.699623</td>\n",
              "    </tr>\n",
              "    <tr>\n",
              "      <th>2</th>\n",
              "      <td>q10</td>\n",
              "      <td>0.828226</td>\n",
              "      <td>0.800518</td>\n",
              "      <td>0.837894</td>\n",
              "      <td>0.833691</td>\n",
              "      <td>0.833691</td>\n",
              "      <td>0.829670</td>\n",
              "      <td>0.829670</td>\n",
              "      <td>0.832417</td>\n",
              "      <td>0.830973</td>\n",
              "      <td>0.829316</td>\n",
              "      <td>0.829670</td>\n",
              "      <td>0.840995</td>\n",
              "      <td>0.840995</td>\n",
              "      <td>0.831594</td>\n",
              "      <td>0.837894</td>\n",
              "      <td>0.839551</td>\n",
              "      <td>0.840995</td>\n",
              "      <td>0.723754</td>\n",
              "    </tr>\n",
              "    <tr>\n",
              "      <th>3</th>\n",
              "      <td>q11</td>\n",
              "      <td>0.918612</td>\n",
              "      <td>0.984652</td>\n",
              "      <td>0.944441</td>\n",
              "      <td>0.941623</td>\n",
              "      <td>0.944106</td>\n",
              "      <td>0.917531</td>\n",
              "      <td>0.916807</td>\n",
              "      <td>0.918017</td>\n",
              "      <td>0.920302</td>\n",
              "      <td>0.927579</td>\n",
              "      <td>0.616166</td>\n",
              "      <td>0.717723</td>\n",
              "      <td>0.734118</td>\n",
              "      <td>0.830436</td>\n",
              "      <td>0.711313</td>\n",
              "      <td>0.722360</td>\n",
              "      <td>0.645237</td>\n",
              "      <td>0.667777</td>\n",
              "    </tr>\n",
              "    <tr>\n",
              "      <th>4</th>\n",
              "      <td>q12</td>\n",
              "      <td>0.330145</td>\n",
              "      <td>0.525720</td>\n",
              "      <td>0.510094</td>\n",
              "      <td>0.548974</td>\n",
              "      <td>0.512748</td>\n",
              "      <td>0.511006</td>\n",
              "      <td>0.491020</td>\n",
              "      <td>0.481549</td>\n",
              "      <td>0.472423</td>\n",
              "      <td>0.471293</td>\n",
              "      <td>0.117499</td>\n",
              "      <td>0.230518</td>\n",
              "      <td>0.133370</td>\n",
              "      <td>0.082121</td>\n",
              "      <td>0.235335</td>\n",
              "      <td>0.078333</td>\n",
              "      <td>0.085390</td>\n",
              "      <td>0.090920</td>\n",
              "    </tr>\n",
              "  </tbody>\n",
              "</table>\n",
              "</div>"
            ],
            "text/plain": [
              "     q      bm25     tfidf    lsi_50  ...   lda_250   lda_300   lda_350   lda_400\n",
              "0   q0  0.833250  0.827390  0.837894  ...  0.837894  0.839551  0.840995  0.837894\n",
              "1   q1  0.780145  0.935910  0.934382  ...  0.670207  0.678847  0.728950  0.699623\n",
              "2  q10  0.828226  0.800518  0.837894  ...  0.837894  0.839551  0.840995  0.723754\n",
              "3  q11  0.918612  0.984652  0.944441  ...  0.711313  0.722360  0.645237  0.667777\n",
              "4  q12  0.330145  0.525720  0.510094  ...  0.235335  0.078333  0.085390  0.090920\n",
              "\n",
              "[5 rows x 19 columns]"
            ]
          },
          "metadata": {
            "tags": []
          },
          "execution_count": 25
        }
      ]
    },
    {
      "cell_type": "code",
      "metadata": {
        "id": "iF_CdJX1JFwt",
        "colab_type": "code",
        "outputId": "05bcfb9e-30cd-4f85-e984-ff2cb48d7d64",
        "colab": {
          "base_uri": "https://localhost:8080/",
          "height": 272
        }
      },
      "source": [
        "compare_models(df_pcrimesp_matter_citation)"
      ],
      "execution_count": 0,
      "outputs": [
        {
          "output_type": "display_data",
          "data": {
            "image/png": "[encoded data removed]",
            "text/plain": [
              "<Figure size 432x219.6 with 1 Axes>"
            ]
          },
          "metadata": {
            "tags": []
          }
        }
      ]
    },
    {
      "cell_type": "markdown",
      "metadata": {
        "id": "ER4JA34zmV8m",
        "colab_type": "text"
      },
      "source": [
        "###Assessing the impact of enrichment methods"
      ]
    },
    {
      "cell_type": "code",
      "metadata": {
        "id": "k0nxM6xlmsAw",
        "colab_type": "code",
        "outputId": "4cea6b43-cae7-4116-d20d-644d24be3bd7",
        "colab": {
          "base_uri": "https://localhost:8080/",
          "height": 474
        }
      },
      "source": [
        "plot_enrich_comparison(df_pcrimesp_pure, df_pcrimesp_matter, df_pcrimesp_citation, df_pcrimesp_matter_citation)"
      ],
      "execution_count": 0,
      "outputs": [
        {
          "output_type": "execute_result",
          "data": {
            "text/html": [
              "<div>\n",
              "<style scoped>\n",
              "    .dataframe tbody tr th:only-of-type {\n",
              "        vertical-align: middle;\n",
              "    }\n",
              "\n",
              "    .dataframe tbody tr th {\n",
              "        vertical-align: top;\n",
              "    }\n",
              "\n",
              "    .dataframe thead th {\n",
              "        text-align: right;\n",
              "    }\n",
              "</style>\n",
              "<table border=\"1\" class=\"dataframe\">\n",
              "  <thead>\n",
              "    <tr style=\"text-align: right;\">\n",
              "      <th></th>\n",
              "      <th>bm25</th>\n",
              "      <th>tfidf</th>\n",
              "      <th>lsi_50</th>\n",
              "      <th>lsi_100</th>\n",
              "      <th>lsi_150</th>\n",
              "      <th>lsi_200</th>\n",
              "      <th>lsi_250</th>\n",
              "      <th>lsi_300</th>\n",
              "      <th>lsi_350</th>\n",
              "      <th>lsi_400</th>\n",
              "      <th>lda_50</th>\n",
              "      <th>lda_100</th>\n",
              "      <th>lda_150</th>\n",
              "      <th>lda_200</th>\n",
              "      <th>lda_250</th>\n",
              "      <th>lda_300</th>\n",
              "      <th>lda_350</th>\n",
              "      <th>lda_400</th>\n",
              "    </tr>\n",
              "  </thead>\n",
              "  <tbody>\n",
              "    <tr>\n",
              "      <th>Basic</th>\n",
              "      <td>0.746404</td>\n",
              "      <td>0.693556</td>\n",
              "      <td>0.611530</td>\n",
              "      <td>0.717523</td>\n",
              "      <td>0.726735</td>\n",
              "      <td>0.712985</td>\n",
              "      <td>0.734937</td>\n",
              "      <td>0.731479</td>\n",
              "      <td>0.749510</td>\n",
              "      <td>0.737584</td>\n",
              "      <td>0.492379</td>\n",
              "      <td>0.532148</td>\n",
              "      <td>0.485650</td>\n",
              "      <td>0.534616</td>\n",
              "      <td>0.528907</td>\n",
              "      <td>0.542536</td>\n",
              "      <td>0.447853</td>\n",
              "      <td>0.544976</td>\n",
              "    </tr>\n",
              "    <tr>\n",
              "      <th>Matter</th>\n",
              "      <td>0.680252</td>\n",
              "      <td>0.642955</td>\n",
              "      <td>0.618588</td>\n",
              "      <td>0.640487</td>\n",
              "      <td>0.654122</td>\n",
              "      <td>0.243056</td>\n",
              "      <td>0.266322</td>\n",
              "      <td>0.234691</td>\n",
              "      <td>0.249966</td>\n",
              "      <td>0.243076</td>\n",
              "      <td>0.477644</td>\n",
              "      <td>0.507676</td>\n",
              "      <td>0.569139</td>\n",
              "      <td>0.254043</td>\n",
              "      <td>0.232535</td>\n",
              "      <td>0.218163</td>\n",
              "      <td>0.211749</td>\n",
              "      <td>0.241383</td>\n",
              "    </tr>\n",
              "    <tr>\n",
              "      <th>Citation</th>\n",
              "      <td>0.704031</td>\n",
              "      <td>0.697098</td>\n",
              "      <td>0.649060</td>\n",
              "      <td>0.713103</td>\n",
              "      <td>0.724588</td>\n",
              "      <td>0.722218</td>\n",
              "      <td>0.715293</td>\n",
              "      <td>0.718804</td>\n",
              "      <td>0.725466</td>\n",
              "      <td>0.718295</td>\n",
              "      <td>0.583701</td>\n",
              "      <td>0.588869</td>\n",
              "      <td>0.613947</td>\n",
              "      <td>0.633325</td>\n",
              "      <td>0.624143</td>\n",
              "      <td>0.615006</td>\n",
              "      <td>0.579774</td>\n",
              "      <td>0.652079</td>\n",
              "    </tr>\n",
              "    <tr>\n",
              "      <th>Matter &amp; Citation</th>\n",
              "      <td>0.698462</td>\n",
              "      <td>0.686063</td>\n",
              "      <td>0.649023</td>\n",
              "      <td>0.704792</td>\n",
              "      <td>0.708721</td>\n",
              "      <td>0.705734</td>\n",
              "      <td>0.702497</td>\n",
              "      <td>0.702442</td>\n",
              "      <td>0.708268</td>\n",
              "      <td>0.700944</td>\n",
              "      <td>0.565785</td>\n",
              "      <td>0.611252</td>\n",
              "      <td>0.606314</td>\n",
              "      <td>0.634972</td>\n",
              "      <td>0.641950</td>\n",
              "      <td>0.629909</td>\n",
              "      <td>0.596248</td>\n",
              "      <td>0.647678</td>\n",
              "    </tr>\n",
              "  </tbody>\n",
              "</table>\n",
              "</div>"
            ],
            "text/plain": [
              "                       bm25     tfidf    lsi_50  ...   lda_300   lda_350   lda_400\n",
              "Basic              0.746404  0.693556  0.611530  ...  0.542536  0.447853  0.544976\n",
              "Matter             0.680252  0.642955  0.618588  ...  0.218163  0.211749  0.241383\n",
              "Citation           0.704031  0.697098  0.649060  ...  0.615006  0.579774  0.652079\n",
              "Matter & Citation  0.698462  0.686063  0.649023  ...  0.629909  0.596248  0.647678\n",
              "\n",
              "[4 rows x 18 columns]"
            ]
          },
          "metadata": {
            "tags": []
          },
          "execution_count": 27
        },
        {
          "output_type": "display_data",
          "data": {
            "image/png": "[encoded data removed]",
            "text/plain": [
              "<Figure size 432x288 with 1 Axes>"
            ]
          },
          "metadata": {
            "tags": []
          }
        }
      ]
    },
    {
      "cell_type": "markdown",
      "metadata": {
        "id": "a-l_tH4Qoj8n",
        "colab_type": "text"
      },
      "source": [
        "In this corpus, the matter rank modification method decreased the NDCG of models which basic version was performing very well. This is the case for semantic models with k>150.  In this collection "
      ]
    },
    {
      "cell_type": "code",
      "metadata": {
        "id": "BLNoqALeZpEa",
        "colab_type": "code",
        "outputId": "2b0b34eb-7c37-4ead-c662-bc3a62db7394",
        "colab": {
          "base_uri": "https://localhost:8080/",
          "height": 286
        }
      },
      "source": [
        "pd.DataFrame([df_pcrimesp_pure.lsi_200, df_pcrimesp_matter.lsi_200]).T.plot()"
      ],
      "execution_count": 0,
      "outputs": [
        {
          "output_type": "execute_result",
          "data": {
            "text/plain": [
              "<matplotlib.axes._subplots.AxesSubplot at 0x7f68b50de748>"
            ]
          },
          "metadata": {
            "tags": []
          },
          "execution_count": 28
        },
        {
          "output_type": "display_data",
          "data": {
            "image/png": "[encoded data removed]",
            "text/plain": [
              "<Figure size 432x288 with 1 Axes>"
            ]
          },
          "metadata": {
            "tags": []
          }
        }
      ]
    },
    {
      "cell_type": "code",
      "metadata": {
        "id": "0yEfmDeMdQcf",
        "colab_type": "code",
        "outputId": "f7552015-6710-448a-929a-62d07effd54b",
        "colab": {
          "base_uri": "https://localhost:8080/",
          "height": 286
        }
      },
      "source": [
        "pd.DataFrame([df_pcrimesp_pure.bm25, df_pcrimesp_matter.bm25]).T.plot()"
      ],
      "execution_count": 0,
      "outputs": [
        {
          "output_type": "execute_result",
          "data": {
            "text/plain": [
              "<matplotlib.axes._subplots.AxesSubplot at 0x7f68b50b95f8>"
            ]
          },
          "metadata": {
            "tags": []
          },
          "execution_count": 29
        },
        {
          "output_type": "display_data",
          "data": {
            "image/png": "[encoded data removed]",
            "text/plain": [
              "<Figure size 432x288 with 1 Axes>"
            ]
          },
          "metadata": {
            "tags": []
          }
        }
      ]
    }
  ]
}