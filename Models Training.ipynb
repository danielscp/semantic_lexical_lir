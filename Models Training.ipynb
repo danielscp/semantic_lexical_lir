{
  "nbformat": 4,
  "nbformat_minor": 0,
  "metadata": {
    "colab": {
      "name": "Training models for generating GSC vectors .ipynb",
      "version": "0.3.2",
      "provenance": [],
      "collapsed_sections": [],
      "toc_visible": true,
      "include_colab_link": true
    },
    "kernelspec": {
      "name": "python3",
      "display_name": "Python 3"
    },
    "accelerator": "GPU"
  },
  "cells": [
    {
      "cell_type": "markdown",
      "metadata": {
        "id": "view-in-github",
        "colab_type": "text"
      },
      "source": [
        "<a href=\"https://colab.research.google.com/github/danielscp/semantic_lexical_lir/blob/master/Models%20Training.ipynb\" target=\"_parent\"><img src=\"https://colab.research.google.com/assets/colab-badge.svg\" alt=\"Open In Colab\"/></a>"
      ]
    },
    {
      "cell_type": "code",
      "metadata": {
        "id": "gpRQYGKHpON0",
        "colab_type": "code",
        "outputId": "f213bf3d-7c4a-4021-967b-5ba31f776a81",
        "colab": {
          "base_uri": "https://localhost:8080/",
          "height": 153
        }
      },
      "source": [
        "!git clone https://github.com/danielscp/semantic_lexical_lir.git"
      ],
      "execution_count": 0,
      "outputs": [
        {
          "output_type": "stream",
          "text": [
            "Cloning into 'semantic_lexical_lir'...\n",
            "remote: Enumerating objects: 225, done.\u001b[K\n",
            "remote: Counting objects: 100% (225/225), done.\u001b[K\n",
            "remote: Compressing objects: 100% (153/153), done.\u001b[K\n",
            "remote: Total 225 (delta 84), reused 210 (delta 71), pack-reused 0\u001b[K\n",
            "Receiving objects: 100% (225/225), 462.30 MiB | 23.00 MiB/s, done.\n",
            "Resolving deltas: 100% (84/84), done.\n",
            "Checking out files: 100% (158/158), done.\n"
          ],
          "name": "stdout"
        }
      ]
    },
    {
      "cell_type": "code",
      "metadata": {
        "id": "hRapn9I9bH7w",
        "colab_type": "code",
        "outputId": "9787c7a9-e45c-48da-b21a-9c02ba58399f",
        "colab": {
          "base_uri": "https://localhost:8080/",
          "height": 326
        }
      },
      "source": [
        "!pip install gensim"
      ],
      "execution_count": 0,
      "outputs": [
        {
          "output_type": "stream",
          "text": [
            "Requirement already satisfied: gensim in /usr/local/lib/python3.6/dist-packages (3.6.0)\n",
            "Requirement already satisfied: numpy>=1.11.3 in /usr/local/lib/python3.6/dist-packages (from gensim) (1.16.4)\n",
            "Requirement already satisfied: six>=1.5.0 in /usr/local/lib/python3.6/dist-packages (from gensim) (1.12.0)\n",
            "Requirement already satisfied: scipy>=0.18.1 in /usr/local/lib/python3.6/dist-packages (from gensim) (1.3.0)\n",
            "Requirement already satisfied: smart-open>=1.2.1 in /usr/local/lib/python3.6/dist-packages (from gensim) (1.8.4)\n",
            "Requirement already satisfied: boto3 in /usr/local/lib/python3.6/dist-packages (from smart-open>=1.2.1->gensim) (1.9.162)\n",
            "Requirement already satisfied: boto>=2.32 in /usr/local/lib/python3.6/dist-packages (from smart-open>=1.2.1->gensim) (2.49.0)\n",
            "Requirement already satisfied: requests in /usr/local/lib/python3.6/dist-packages (from smart-open>=1.2.1->gensim) (2.21.0)\n",
            "Requirement already satisfied: s3transfer<0.3.0,>=0.2.0 in /usr/local/lib/python3.6/dist-packages (from boto3->smart-open>=1.2.1->gensim) (0.2.1)\n",
            "Requirement already satisfied: botocore<1.13.0,>=1.12.162 in /usr/local/lib/python3.6/dist-packages (from boto3->smart-open>=1.2.1->gensim) (1.12.162)\n",
            "Requirement already satisfied: jmespath<1.0.0,>=0.7.1 in /usr/local/lib/python3.6/dist-packages (from boto3->smart-open>=1.2.1->gensim) (0.9.4)\n",
            "Requirement already satisfied: idna<2.9,>=2.5 in /usr/local/lib/python3.6/dist-packages (from requests->smart-open>=1.2.1->gensim) (2.8)\n",
            "Requirement already satisfied: urllib3<1.25,>=1.21.1 in /usr/local/lib/python3.6/dist-packages (from requests->smart-open>=1.2.1->gensim) (1.24.3)\n",
            "Requirement already satisfied: certifi>=2017.4.17 in /usr/local/lib/python3.6/dist-packages (from requests->smart-open>=1.2.1->gensim) (2019.3.9)\n",
            "Requirement already satisfied: chardet<3.1.0,>=3.0.2 in /usr/local/lib/python3.6/dist-packages (from requests->smart-open>=1.2.1->gensim) (3.0.4)\n",
            "Requirement already satisfied: docutils>=0.10 in /usr/local/lib/python3.6/dist-packages (from botocore<1.13.0,>=1.12.162->boto3->smart-open>=1.2.1->gensim) (0.14)\n",
            "Requirement already satisfied: python-dateutil<3.0.0,>=2.1; python_version >= \"2.7\" in /usr/local/lib/python3.6/dist-packages (from botocore<1.13.0,>=1.12.162->boto3->smart-open>=1.2.1->gensim) (2.5.3)\n"
          ],
          "name": "stdout"
        }
      ]
    },
    {
      "cell_type": "code",
      "metadata": {
        "id": "DbOUyXDAdZ8R",
        "colab_type": "code",
        "colab": {}
      },
      "source": [
        "from gensim.corpora import MmCorpus, Dictionary\n",
        "from gensim.models import TfidfModel, LsiModel, LdaModel"
      ],
      "execution_count": 0,
      "outputs": []
    },
    {
      "cell_type": "code",
      "metadata": {
        "id": "uATscaK00abs",
        "colab_type": "code",
        "colab": {}
      },
      "source": [
        "corpus_a = {\n",
        "    'models_dir': 'semantic_lexical_lir/data/corpus_a/models/',\n",
        "    'data_dir': 'semantic_lexical_lir/data/corpus_a/',\n",
        "    'output_dir': 'corpus_a/'\n",
        "}\n",
        "\n",
        "corpus_b = {\n",
        "    'models_dir': 'semantic_lexical_lir/data/corpus_b/models/',\n",
        "    'data_dir': 'semantic_lexical_lir/data/corpus_b/',\n",
        "    'output_dir': 'corpus_b/'\n",
        "}"
      ],
      "execution_count": 0,
      "outputs": []
    },
    {
      "cell_type": "code",
      "metadata": {
        "id": "44iyfenMdleG",
        "colab_type": "code",
        "outputId": "e33ad968-a576-4e24-c567-ceda3582c36b",
        "colab": {
          "base_uri": "https://localhost:8080/",
          "height": 71
        }
      },
      "source": [
        "load_bows = lambda c: MmCorpus(c['data_dir'] + 'bows')\n",
        "corpus_a['bows'] = load_bows(corpus_a)\n",
        "corpus_b['bows'] = load_bows(corpus_b)\n",
        "\n",
        "load_test_bows = lambda c: MmCorpus(c['data_dir'] + 'bows_test')\n",
        "corpus_a['test_bows'] = load_test_bows(corpus_a)\n",
        "corpus_b['test_bows'] = load_test_bows(corpus_b)\n",
        "\n",
        "\n",
        "load_dict = lambda c: Dictionary.load(c['data_dir'] + 'dictionary.dict')\n",
        "corpus_a['dict'] = load_dict(corpus_a)\n",
        "corpus_b['dict'] = load_dict(corpus_b)\n"
      ],
      "execution_count": 0,
      "outputs": [
        {
          "output_type": "stream",
          "text": [
            "/usr/local/lib/python3.6/dist-packages/smart_open/smart_open_lib.py:398: UserWarning: This function is deprecated, use smart_open.open instead. See the migration notes for details: https://github.com/RaRe-Technologies/smart_open/blob/master/README.rst#migrating-to-the-new-open-function\n",
            "  'See the migration notes for details: %s' % _MIGRATION_NOTES_URL\n"
          ],
          "name": "stderr"
        }
      ]
    },
    {
      "cell_type": "code",
      "metadata": {
        "id": "oTky9S05dsr9",
        "colab_type": "code",
        "outputId": "7d7053a3-755c-4de5-dbbf-e5b5722c8238",
        "colab": {
          "base_uri": "https://localhost:8080/",
          "height": 105
        }
      },
      "source": [
        "%%time\n",
        "tfidf_fit = lambda c: TfidfModel(c['bows'])\n",
        "tfidf_transform = lambda c: c['tfidf']['model'][c['bows']]\n",
        "\n",
        "corpus_a['tfidf'] = {'model': tfidf_fit(corpus_a)}\n",
        "corpus_a['tfidf']['vects'] = tfidf_transform(corpus_a)\n",
        "\n",
        "corpus_b['tfidf'] = {'model': tfidf_fit(corpus_b)}\n",
        "corpus_b['tfidf']['vects'] = tfidf_transform(corpus_b)\n"
      ],
      "execution_count": 0,
      "outputs": [
        {
          "output_type": "stream",
          "text": [
            "/usr/local/lib/python3.6/dist-packages/smart_open/smart_open_lib.py:398: UserWarning: This function is deprecated, use smart_open.open instead. See the migration notes for details: https://github.com/RaRe-Technologies/smart_open/blob/master/README.rst#migrating-to-the-new-open-function\n",
            "  'See the migration notes for details: %s' % _MIGRATION_NOTES_URL\n"
          ],
          "name": "stderr"
        },
        {
          "output_type": "stream",
          "text": [
            "CPU times: user 4.81 s, sys: 47.3 ms, total: 4.86 s\n",
            "Wall time: 4.82 s\n"
          ],
          "name": "stdout"
        }
      ]
    },
    {
      "cell_type": "code",
      "metadata": {
        "id": "6i1upQaYfdJq",
        "colab_type": "code",
        "colab": {}
      },
      "source": [
        "topics = [50, 100, 150, 200, 250, 300, 350, 400]"
      ],
      "execution_count": 0,
      "outputs": []
    },
    {
      "cell_type": "code",
      "metadata": {
        "id": "qL-_wRFyfnkW",
        "colab_type": "code",
        "outputId": "9bf931da-e143-46c9-f740-df1a2f6ed1fc",
        "colab": {
          "base_uri": "https://localhost:8080/",
          "height": 105
        }
      },
      "source": [
        "%%time\n",
        "lsi_fit = lambda c, t: LsiModel(corpus=c['tfidf']['vects'], num_topics=t, id2word=c['dict'])\n",
        "corpus_a['lsi'] = {t: lsi_fit(corpus_a, t) for t in topics}\n",
        "corpus_b['lsi'] = {t: lsi_fit(corpus_b, t) for t in topics}\n",
        "\n",
        "#lsi = {t: LsiModel(corpus=tfidf_vects, num_topics=t, id2word=dictionary) for t in topics}"
      ],
      "execution_count": 0,
      "outputs": [
        {
          "output_type": "stream",
          "text": [
            "/usr/local/lib/python3.6/dist-packages/smart_open/smart_open_lib.py:398: UserWarning: This function is deprecated, use smart_open.open instead. See the migration notes for details: https://github.com/RaRe-Technologies/smart_open/blob/master/README.rst#migrating-to-the-new-open-function\n",
            "  'See the migration notes for details: %s' % _MIGRATION_NOTES_URL\n"
          ],
          "name": "stderr"
        },
        {
          "output_type": "stream",
          "text": [
            "CPU times: user 3min 19s, sys: 10.1 s, total: 3min 29s\n",
            "Wall time: 3min 1s\n"
          ],
          "name": "stdout"
        }
      ]
    },
    {
      "cell_type": "code",
      "metadata": {
        "id": "SBF5yizVgSLt",
        "colab_type": "code",
        "outputId": "084590aa-4f56-4553-cc30-269c4d0e274d",
        "colab": {
          "base_uri": "https://localhost:8080/",
          "height": 85
        }
      },
      "source": [
        "%%time\n",
        "#Takes 1h 10min to train using Google Colaboratory GPU...\n",
        "lda_fit = lambda c, t: LdaModel(corpus=c['bows'], num_topics=t, id2word=c['dict'], passes=15, eval_every=None)\n",
        "# lda = {t: LdaModel(corpus=bows, num_topics=t, id2word=dictionary, passes=15, eval_every=None) for t in topics}\n",
        "corpus_a['lda'] = {t: lda_fit(corpus_a, t) for t in topics}\n",
        "corpus_b['lda'] = {t: lda_fit(corpus_b, t) for t in topics}"
      ],
      "execution_count": 0,
      "outputs": [
        {
          "output_type": "stream",
          "text": [
            "/usr/local/lib/python3.6/dist-packages/gensim/models/ldamodel.py:1023: RuntimeWarning: divide by zero encountered in log\n",
            "  diff = np.log(self.expElogbeta)\n"
          ],
          "name": "stderr"
        },
        {
          "output_type": "stream",
          "text": [
            "CPU times: user 1h 35min 44s, sys: 37min 28s, total: 2h 13min 12s\n",
            "Wall time: 1h 9min 41s\n"
          ],
          "name": "stdout"
        }
      ]
    },
    {
      "cell_type": "code",
      "metadata": {
        "id": "HvefIYz4R7Le",
        "colab_type": "code",
        "colab": {}
      },
      "source": [
        "from semantic_lexical_lir.bm25 import BM25"
      ],
      "execution_count": 0,
      "outputs": []
    },
    {
      "cell_type": "code",
      "metadata": {
        "id": "TftCmqDZOUlJ",
        "colab_type": "code",
        "outputId": "579449bd-a6b2-4637-eb09-6aefd9f18414",
        "colab": {
          "base_uri": "https://localhost:8080/",
          "height": 71
        }
      },
      "source": [
        "corpus_a['bm25'] = BM25(corpus_a['test_bows'])"
      ],
      "execution_count": 0,
      "outputs": [
        {
          "output_type": "stream",
          "text": [
            "/usr/local/lib/python3.6/dist-packages/smart_open/smart_open_lib.py:398: UserWarning: This function is deprecated, use smart_open.open instead. See the migration notes for details: https://github.com/RaRe-Technologies/smart_open/blob/master/README.rst#migrating-to-the-new-open-function\n",
            "  'See the migration notes for details: %s' % _MIGRATION_NOTES_URL\n"
          ],
          "name": "stderr"
        }
      ]
    }
  ]
}